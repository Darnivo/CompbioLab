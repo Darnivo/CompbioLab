{
 "cells": [
  {
   "cell_type": "markdown",
   "metadata": {},
   "source": [
    "For given DNA sequences:\n",
    "Sequence X is obtained from FASTA file (x.fasta)\n",
    "Sequence Y is obtained from FASTA file (y.fasta)"
   ]
  },
  {
   "cell_type": "markdown",
   "metadata": {},
   "source": [
    "The sequences might be contain ambiguous letters. Use seq = seq.replace(“<letter>”, “”) function to\n",
    "remove the unwanted letter from the sequence.\n",
    "\n",
    "<small>The ambiguous letters can be any character so filter the sequence after reading it from fasta file is a must.<small>"
   ]
  },
  {
   "cell_type": "code",
   "execution_count": 1,
   "metadata": {},
   "outputs": [],
   "source": [
    "from Bio.Seq import Seq\n",
    "from Bio import SeqIO"
   ]
  },
  {
   "cell_type": "code",
   "execution_count": 4,
   "metadata": {},
   "outputs": [],
   "source": [
    "ReadX = SeqIO.read('Latsol/x.fasta','fasta')\n",
    "SeqX = ReadX.seq\n",
    "ReadY = SeqIO.read('Latsol/y.fasta','fasta')\n",
    "SeqY = ReadY.seq"
   ]
  },
  {
   "cell_type": "code",
   "execution_count": 5,
   "metadata": {},
   "outputs": [],
   "source": [
    "def clean_sequence(seq):\n",
    "    for letters in \"BDEFHIJKLMNOPQRUVWXYZ\":\n",
    "        seq = seq.replace(letters,\"\")\n",
    "    return seq"
   ]
  },
  {
   "cell_type": "code",
   "execution_count": 6,
   "metadata": {},
   "outputs": [
    {
     "name": "stdout",
     "output_type": "stream",
     "text": [
      "1883\n",
      "1050\n"
     ]
    }
   ],
   "source": [
    "print(len(SeqX))\n",
    "print(len(SeqY))"
   ]
  },
  {
   "cell_type": "code",
   "execution_count": 7,
   "metadata": {},
   "outputs": [],
   "source": [
    "SeqX = clean_sequence(SeqX)\n",
    "SeqY = clean_sequence(SeqY)"
   ]
  },
  {
   "cell_type": "markdown",
   "metadata": {},
   "source": [
    "# 1. Sequence Manipulation:\n",
    "* Display the total length of Sequence X and Y"
   ]
  },
  {
   "cell_type": "code",
   "execution_count": 8,
   "metadata": {},
   "outputs": [
    {
     "name": "stdout",
     "output_type": "stream",
     "text": [
      "1865\n",
      "1050\n"
     ]
    }
   ],
   "source": [
    "print(len(SeqX))\n",
    "print(len(SeqY))"
   ]
  },
  {
   "cell_type": "markdown",
   "metadata": {},
   "source": [
    "* Display which index the first time the codon (CGC) appears in Sequence X and Y."
   ]
  },
  {
   "cell_type": "code",
   "execution_count": 11,
   "metadata": {},
   "outputs": [
    {
     "name": "stdout",
     "output_type": "stream",
     "text": [
      "51\n",
      "39\n"
     ]
    }
   ],
   "source": [
    "print(SeqX.index(\"CGC\"))\n",
    "print(SeqY.index(\"CGC\"))"
   ]
  },
  {
   "cell_type": "code",
   "execution_count": 12,
   "metadata": {},
   "outputs": [
    {
     "name": "stdout",
     "output_type": "stream",
     "text": [
      "31\n",
      "24\n"
     ]
    }
   ],
   "source": [
    "print(SeqX.count(\"CGC\"))\n",
    "print(SeqY.count(\"CGC\"))"
   ]
  },
  {
   "cell_type": "markdown",
   "metadata": {},
   "source": [
    "## Create a new sequence using the following task below:\n",
    "-\n",
    "    - Take the first 10 nucleotides from Sequence X and the last 5 nucleotides from Sequence X.\n",
    "    - o Take the first 20 nucleotides from Sequence Y and the last 3 nucleotides from Sequence Y.\n",
    "    - Combine both of the string above and reverse it to a new sequence, Sequence Z."
   ]
  },
  {
   "cell_type": "code",
   "execution_count": 15,
   "metadata": {},
   "outputs": [
    {
     "name": "stdout",
     "output_type": "stream",
     "text": [
      "CAGTTCAGGTCTAGGTTGTGGTACAGCTGGTTGTGGTA\n"
     ]
    }
   ],
   "source": [
    "Seq1 = SeqX[:10] + SeqY[-5:]\n",
    "Seq2 = SeqX[:20] + SeqY[-3:]\n",
    "\n",
    "SeqZ = Seq1+Seq2\n",
    "\n",
    "SeqZ = SeqZ[::-1]\n",
    "print(SeqZ)"
   ]
  },
  {
   "cell_type": "markdown",
   "metadata": {},
   "source": [
    "# 2. Sequence Analysis & Plotting\n",
    "* Display the nucleotides base (A and C) frequency for Sequence C with a chart using matplotlib\n",
    "library. You are free to plot using bar or pie chart."
   ]
  },
  {
   "cell_type": "code",
   "execution_count": 18,
   "metadata": {},
   "outputs": [
    {
     "name": "stdout",
     "output_type": "stream",
     "text": [
      "Counter({'G': 14, 'T': 13, 'A': 6, 'C': 5})\n"
     ]
    }
   ],
   "source": [
    "from collections import Counter\n",
    "freqZ = Counter(SeqZ)\n",
    "print(freqZ)"
   ]
  },
  {
   "cell_type": "code",
   "execution_count": 19,
   "metadata": {},
   "outputs": [],
   "source": [
    "freqKeys = ['A','C']\n",
    "freqVal = [freqZ[key]for key in freqKeys]"
   ]
  },
  {
   "cell_type": "code",
   "execution_count": 20,
   "metadata": {},
   "outputs": [],
   "source": [
    "import matplotlib.pyplot as plt"
   ]
  },
  {
   "cell_type": "code",
   "execution_count": 79,
   "metadata": {},
   "outputs": [
    {
     "data": {
      "text/plain": [
       "Text(0.5, 1.0, 'Nucleotide count')"
      ]
     },
     "execution_count": 79,
     "metadata": {},
     "output_type": "execute_result"
    },
    {
     "data": {
      "image/png": "[encoded data removed]",
      "text/plain": [
       "<Figure size 640x480 with 1 Axes>"
      ]
     },
     "metadata": {},
     "output_type": "display_data"
    }
   ],
   "source": [
    "plt.bar(freqKeys,freqVal, color=['blue', 'orange'])\n",
    "plt.title(\"Nucleotide count\")"
   ]
  },
  {
   "cell_type": "markdown",
   "metadata": {},
   "source": [
    "+ Display GC and AT content percentage for Sequence C."
   ]
  },
  {
   "cell_type": "code",
   "execution_count": 40,
   "metadata": {},
   "outputs": [
    {
     "name": "stdout",
     "output_type": "stream",
     "text": [
      "50.0\n",
      "50.0\n"
     ]
    }
   ],
   "source": [
    "from Bio.SeqUtils import GC123,gc_fraction\n",
    "GCsZ = GC123(SeqZ)[0]\n",
    "# GCsZ\n",
    "ATsZ = 100 - GCsZ\n",
    "\n",
    "print(GCsZ)\n",
    "print(ATsZ)"
   ]
  },
  {
   "cell_type": "markdown",
   "metadata": {},
   "source": [
    "+ Display melting temperature for Sequence C using Wallace method."
   ]
  },
  {
   "cell_type": "code",
   "execution_count": 43,
   "metadata": {},
   "outputs": [
    {
     "name": "stdout",
     "output_type": "stream",
     "text": [
      "114.00\n"
     ]
    }
   ],
   "source": [
    "from Bio.SeqUtils import MeltingTemp as mt\n",
    "print(\"%0.2f\" % mt.Tm_Wallace(SeqZ))"
   ]
  },
  {
   "cell_type": "markdown",
   "metadata": {},
   "source": [
    "+ Display molecular weight for Sequence C."
   ]
  },
  {
   "cell_type": "code",
   "execution_count": 45,
   "metadata": {},
   "outputs": [
    {
     "name": "stdout",
     "output_type": "stream",
     "text": [
      "11906.56\n"
     ]
    }
   ],
   "source": [
    "from Bio.SeqUtils import molecular_weight as mw\n",
    "print(\"%0.2f\" % mw(SeqZ))"
   ]
  },
  {
   "cell_type": "markdown",
   "metadata": {},
   "source": [
    "# 3. DNA and mRNA Protein Synthesis:\n",
    "+ Transcribe and display the DNA sequence C into mRNA Sequence."
   ]
  },
  {
   "cell_type": "code",
   "execution_count": 46,
   "metadata": {},
   "outputs": [
    {
     "data": {
      "text/plain": [
       "Seq('CAGUUCAGGUCUAGGUUGUGGUACAGCUGGUUGUGGUA')"
      ]
     },
     "execution_count": 46,
     "metadata": {},
     "output_type": "execute_result"
    }
   ],
   "source": [
    "mRNAsZ = SeqZ.transcribe()\n",
    "mRNAsZ"
   ]
  },
  {
   "cell_type": "markdown",
   "metadata": {},
   "source": [
    "+ Translate and display the mRNA sequence C into amino acids Sequence."
   ]
  },
  {
   "cell_type": "code",
   "execution_count": 48,
   "metadata": {},
   "outputs": [
    {
     "name": "stderr",
     "output_type": "stream",
     "text": [
      "c:\\Users\\darre\\AppData\\Local\\Programs\\Python\\Python310\\lib\\site-packages\\Bio\\Seq.py:2880: BiopythonWarning: Partial codon, len(sequence) not a multiple of three. Explicitly trim the sequence or add trailing N before translation. This may become an error in future.\n",
      "  warnings.warn(\n"
     ]
    },
    {
     "data": {
      "text/plain": [
       "Seq('QFRSRLWYSWLW')"
      ]
     },
     "execution_count": 48,
     "metadata": {},
     "output_type": "execute_result"
    }
   ],
   "source": [
    "AminosZ = mRNAsZ.translate()\n",
    "AminosZ"
   ]
  },
  {
   "cell_type": "markdown",
   "metadata": {},
   "source": [
    "# 4. Sequence Alginment & Similarities:\n",
    "+ Perform local alignment pairwise between sequence A and sequence B and display the alignment\n",
    "score."
   ]
  },
  {
   "cell_type": "code",
   "execution_count": 49,
   "metadata": {},
   "outputs": [
    {
     "name": "stderr",
     "output_type": "stream",
     "text": [
      "c:\\Users\\darre\\AppData\\Local\\Programs\\Python\\Python310\\lib\\site-packages\\Bio\\pairwise2.py:278: BiopythonDeprecationWarning: Bio.pairwise2 has been deprecated, and we intend to remove it in a future release of Biopython. As an alternative, please consider using Bio.Align.PairwiseAligner as a replacement, and contact the Biopython developers if you still need the Bio.pairwise2 module.\n",
      "  warnings.warn(\n"
     ]
    }
   ],
   "source": [
    "from Bio import pairwise2"
   ]
  },
  {
   "cell_type": "code",
   "execution_count": 57,
   "metadata": {},
   "outputs": [],
   "source": [
    "from Bio.pairwise2 import format_alignment"
   ]
  },
  {
   "cell_type": "code",
   "execution_count": 62,
   "metadata": {},
   "outputs": [
    {
     "name": "stdout",
     "output_type": "stream",
     "text": [
      "6 GTTGGATC--TGGA-CTTGTTTCGGACGGATAAAGGAGGAGACCCGGACCGCATCCGAGAGACGCAAAAGAACCGCTTCAAGGACCCGGGACTCGTGGATCGGCTGGTGAAGGCGGACGGCGAGTG-GCGAAAATGCAGATTTCA-GACCG-A-CAACTTG-AACAAGC-TGAAGAA-CCTATG-CAGCAAGACAATTGGAG-AGAAAATGAA--GAAAAAAGAGCCAGTGGGAAATGATGAGTCC-ATTCCGGAGAACTTGTTAAATCTCGATGACCTCACTTCAGACA-CTTTAGCTAACCTGAAAGT-GTCACA---GATCAAAAAACTC-CGACTCC---TCAT-CGACGAAGCCAT-CCTGAAGTGTGACGCCCAGCGGATAAAGCTGCAGGAATA-GCGGTTT-GA-GAACCTC-CGCG-A--G-C-T-GCATCCCTCGGTGCC-CATCAG-T-A--ACGATGAGG-ATGCGGACAACAAAGTCGAGAGGATCTGGGGTGACT-GCACCGTCAAGAAGAAGTACTCGCACGTG-GACCTGGTGGTGATGGTCGAT-G-GCT--TTGAAGGCGAAAAAGGGGTCGTGG-TGGCTGGCAGTCGAGGGTACTTCCTGAAGGGGCCCCTG-GTGTTCCTGGAACAGGCGC--TCAT-CCAGTACGC-CCTTCGCACCTTGGGAAGTCGGGGCTACA-TTCCCATTTACACCC-CGTTTTTCATGAG-GAAGGAGGTCATGCAGGAGG-TGGCACAGCTCAGCCAGTTTGA-TGAAGAGCTTTACAAGGT-GATTGGCAAAGGCAGT-GAAA-AGTCTGA-CGACAACTCCTACGATGAGAAATACCTGAT-TGCCAC-CTCCG-AGCA-GCCCATCGC-TGCTC-TCCA-CCGAGATG-AGTG-GCTACGGCCAG---AGGATTTGCCCATCAAGTATGCTGGCCTGTC-CACCT-GCTTT-CG-CCAGGAGGTGGGCTCCCACGGCCGG-GACACCCGCGGCATCTTCCGAGTCCATCA-GTTTGAGAAGATCGAGCAG-TTT-GTCT-AC-GCGTCACCACATGAC-AACA-AGTCGTGGGAGATGTT-TGAAGA-GATGATCTCCA-CCGC--GG-AGGAGTTCTACCAGACCCTGGGCATCCCATACCACATCGTGAATATTGTCTCA-GGTT-CTTTGAATCACGCTGCCAGTAAGAAGCTTGACCTGG--AGGCCTGGTTTCCGGGC-TCGGGAGCCTTCCGGGAGCTG--GT-CTC-CTGTTCTA-ACTGCACAGACTACCAGGCTCGCCGCCTCCGAATCCGATACGGGCAAACC-A--AGAAGATGATGGACAAGGTGGAGTTTGTCCACATGCTCAAC-GCCACCATG-T-GTGCCACTACCC-GCACCATCTGCGCCAT-C-CT--G-GAGAACTACCAGACGGA-G---AAGGGCA--T-C-G-TCG--TGCC--CGA--GAAGTTG-AAGGA-GTT-CATG-CCGC-CAGGTCTCCAAGAACTGATTCCCT-TTG-TGAAGCCTGCGCCCATTGACCAGGAGCCAT-CGAAGAAG--CAGAAGAA---GCAGCAGGAGGGCAGCAAAAACAA-AGGGGCAGAGAGCGATGTCCCCCTGGAGAGCCGGCTGCAGAGCATGGTGCTCGCCGATTCCTGAAC-ATT-CCTTCTC--C-CCAGTTCGGTCAGCTGG-GATCCCAGAGCCTGC-CCA-CAGG-CGGGGA-C--G-CCAGACATGC-CC-TCTCATCGCCTGCACCGACT-GACTGCATTGCTGAAACGGGAGCCCTCTGCC-AT-GCACACCGCAG-TGT---TC-CTGTCTGCTCGCATGGGCCTGGGACGCAACCACTGAGGACTGAGGAAGTCATGCCATGAGCCTCCCCAGCAGAGGTGAGGACTCGCCCGC-AGTCCTCCGCCTGGGCCTCAAACCCTGGCTCACAGCTCTCCCTGGAACCAC-ACTCACTTG-TGCTTTTCCTCCTAAATAAAG-CT-GTT-CCATGTAGC-AA-GTC-A\n",
      "  | | | ||  |||| |   ||| || |            ||   |  |  |  |               |   ||  |   |||     |   | |   |    |  |       | | |||| || ||     |||      |  | ||  | ||| ||  ||| | | ||  | | ||   | |  |   ||   |  |  ||     |    |     | ||||     |  |  | | |  | |   | |||   |||        || ||   |   ||   ||  |    ||   ||   || | ||       | |        || |||||     |||  ||| ||||   | ||       ||| | || || | |   ||| |  ||||  ||    | || |||   | || | |  | | | |||  || | ||| | | ||   | |  |  || ||| | ||  | |||   ||    | |  |     |  |  ||||| ||        |   | |  | || | ||       ||      |  | ||   ||   |||           |   | | ||| || |||    |      |  ||   | |||   | |   | ||  ||  | |  |  | ||||||  | || | ||| |         |  |||| |  || |||   | |    ||    || |  | ||| ||    |   |  |   | |  |||| | |  |    || ||||||     ||      |  |  |    || |  |  | || ||   ||   |  ||  ||||| |     || |   |||||  ||||  |||| ||||  ||  | | | |    |||| |   |  | || |   || |   |||  |||      |||   | | | | | | ||    ||    |  ||   |     |||   |   ||   || |  | | |||     |  ||   ||| |  |       ||||| |  ||| |||  |  | || |  | ||  | |||  || | |    |  |   |      | ||     || ||||  || | | |   |  | |  ||   | |   || ||| |  |    | |  |   || |||| |    || | | ||  |  |      |||  |||    |    |||  |   ||| ||  | | |||   || | |   |  ||| |   | |  | ||||| | ||     | | |  |     |  |   | ||   |  ||| |  | ||||  |  |   |     |      || |  |   ||  ||||  | | | |||    || || ||| | || | |  |  | ||  | | |  ||    |||  | |   || |||   | | | ||   ||||  | |  ||| ||  || |  ||| | |  |||| | ||| |    | | ||     |  ||| || |   | ||   | |      ||  ||| |    ||   |          ||  |       | |          |     | |||||| | |  |||     |    |  | | || |  ||  |      ||  |   | | | || | ||  | ||    |  |  |||   ||    || |  ||  ||| |||| |    | |  | ||||   ||  || | | ||  || | |   |   ||  | | | | | ||   | |   ||||   |  | | | |||   ||    || | || |  |  |   || |||||  |    | ||   ||||      ||  || |   ||  |         |   || | | || |||  ||  ||    |   |    ||||||  |    | |   |  |  |     | | || | || ||            || |||| |  |   ||| |  || || ||| |\n",
      "1 G-T-G-TCAGTGGAAC---TTT-GG-C------------AG---C--A--G--T---------------G---CG--T---GGA-----G---C-T---T----T--T-------G-C-GCGA-TGAGC-----TGC------C-TG-CC-CAGCAA-TT-CAAC-A-CCTG--G-ATCC---GTC--C---AC---T--A-CAG-----G--TCG-----A-AGCC-----G--A--A-G-G--CGA---C-GAG---TTG--------CG-TG---T---TT---AC-GC----GC---CC---AA-TCGT----TTTG-T--------TCTCGACT--GGGTCA-ACGA-GAAG---TACC-------TGA-G-CC-GC-G-T---GCT-C--GAAT-TGC----TCGATGAA---CACG-GCAACGGCCTCGCA--CC-C-GTG-CTC-TC--CTTATTA--AT-AGGCA-GC--A-AAC---GT----A-G--C-----T--C-CGCACC-TC--------G---T-G--C-TGCG-CC-------GA------A-CGCGC-CATT---GGC-----------C---GCT-GCT-GC-GTC----G------C--AA---G-CCC--AG-G---C-GG--CA--C-CGGT--TGCCAGTA--CACC-T-GCA-C---------C--GGCT-C-CTT-CCA---A-A---TCG----TC-T--GCGAA-GA----A---A--A--AT-G--CAGC-C-G--A----GAATGAAGA-----AC-----CG--T--C----GC-G-CG--ATAG-CT--TCG---A--CC--CGATG-G-----CC-G--GTGCCA-GCTCC-CAGCAAGCCC--CG-AT-C-CGT---GCCGA-A--CA--GCGC-A---CC-GTTCAGG--TTG------AAG---G-T-G-C-G-CTCA---AGC---AC-ACC---A-----GCT---A---CC--TGA-A--C-C-GCA-----C--GT---TCACG--T-------TCGAG-A-ATTTCGTC-GA-AG-GT-A--A-AT--CCAAC-CAG-C-T----G--G--CT-----CG-TG-----CAGCCGCCTGGCA-G-G---T--C-G--CC---G-A---CA-ACC-C--C----A-A--G---CACGGTTAC----AA-C-C-CT--C--T------CTT--CCT--TTA----TGG--T---GGCGTC--G-G-CTT---GG-G-T-AAG-ACTCAC---T-T-GA-TGCAC-G-CT-----G-T-G--G-----G--T---A-AC---C--ACCTATTA-AAGA--A--G---A-----A------CC-C--G---AA-TGCCA--A-GGTCGTG----TA-CCTGCA-C-TC-G-G--A-GCGCTTCGTG-G--CT----GAC--ATGGTCAA-GGC-CCTGCAGCTC-AATGCCATC-AATGAA-TT-CAA-G-CGTTTC-T-ACCGCTC-GGT-T----G-A-TG-----C-GTTGCTG-A---T-CG---A-T------GA--CATTC----AA-TTC-------TTTGC--C-------C-G---------TA-----A-AGAGCG-T-T--CCC-----A----G--G-A-AG-A--GT--T------TT--T---CCA-TACC-T-TCAACGCC----C--T--GCT--CGA----AG-G--TG-GCCAGCAGGTC----ATCTTGACCAG---TG-ACCGT-T-AT--CC-G-A---A--AGA--G-A-T-C-G-AA---G-G---TCTG--GA-AG-A-A-CGC--CTG-AAATCGC-GT-T--T--C---GG-CTGGG--G----C-CT---GACT------GT--TG-C---AG--T---------A---GA-G-C-CG-CCG-GAG--CT----C---G----AAACCC--G----C-G---T--C--G-----CGA-TC-C-TGATG------------AA-AAAGGC-CG--ACCA-G--GCGAAAGTCGA\n",
      "  Score=873\n",
      "\n"
     ]
    }
   ],
   "source": [
    "Local = pairwise2.align.localxx(SeqX,SeqY)\n",
    "print(format_alignment(*Local[0]))"
   ]
  },
  {
   "cell_type": "code",
   "execution_count": 60,
   "metadata": {},
   "outputs": [
    {
     "name": "stdout",
     "output_type": "stream",
     "text": [
      "873.0\n"
     ]
    }
   ],
   "source": [
    "from Bio import Align\n",
    "aligner = Align.PairwiseAligner()\n",
    "aligner.mode = \"local\"\n",
    "alignment = aligner.align(SeqX, SeqY)\n",
    "scores = alignment.score\n",
    "print(scores)"
   ]
  },
  {
   "cell_type": "code",
   "execution_count": 64,
   "metadata": {},
   "outputs": [
    {
     "name": "stdout",
     "output_type": "stream",
     "text": [
      "873.0\n"
     ]
    }
   ],
   "source": [
    "# scores = Align.PairwiseAligner().align(SeqX, SeqY).score\n",
    "# print(scores)"
   ]
  },
  {
   "cell_type": "code",
   "execution_count": 65,
   "metadata": {},
   "outputs": [
    {
     "name": "stdout",
     "output_type": "stream",
     "text": [
      "ATGGTGTTGGATC--TGGA-CTTGTTTCGGACGGATAAAGGAGGAGACCCGGACCGCATCCGAGAGACGCAAAAGAACCGCTTCAAGGACCCGGGACTCGTGGATCGGCTGGTGAAGGCGGACGGCGAGTG-GCGAAAATGCAGATTTCA-GACCG-A-CAACTTG-AACAAGC-TGAAGAA-CCTATG-CAGCAAGACAATTGGAG-AGAAAATGAA--GAAAAAAGAGCCAGTGGGAAATGATGAGTCC-ATTCCGGAGAACTTGTTAAATCTCGATGACCTCACTTCAGACA-CTTTAGCTAACCTGAAAGT-GTCACA---GATCAAAAAACTC-CGACTCC---TCAT-CGACGAAGCCAT-CCTGAAGTGTGACGCCCAGCGGATAAAGCTGCAGGAATA-GCGGTTT-GA-GAACCTC-CGCG-A--G-C-T-GCATCCCTCGGTGCC-CATCAG-T-A--ACGATGAGG-ATGCGGACAACAAAGTCGAGAGGATCTGGGGTGACT-GCACCGTCAAGAAGAAGTACTCGCACGTG-GACCTGGTGGTGATGGTCGAT-G-GCT--TTGAAGGCGAAAAAGGGGTCGTGG-TGGCTGGCAGTCGAGGGTACTTCCTGAAGGGGCCCCTG-GTGTTCCTGGAACAGGCGC--TCAT-CCAGTACGC-CCTTCGCACCTTGGGAAGTCGGGGCTACA-TTCCCATTTACACCC-CGTTTTTCATGAG-GAAGGAGGTCATGCAGGAGG-TGGCACAGCTCAGCCAGTTTGA-TGAAGAGCTTTACAAGGT-GATTGGCAAAGGCAGT-GAAA-AGTCTGA-CGACAACTCCTACGATGAGAAATACCTGAT-TGCCAC-CTCCG-AGCA-GCCCATCGC-TGCTC-TCCA-CCGAGATG-AGTG-GCTACGGCCAG---AGGATTTGCCCATCAAGTATGCTGGCCTGTC-CACCT-GCTTT-CG-CCAGGAGGTGGGCTCCCACGGCCGG-GACACCCGCGGCATCTTCCGAGTCCATCA-GTTTGAGAAGATCGAGCAG-TTT-GTCT-AC-GCGTCACCACATGAC-AACA-AGTCGTGGGAGATGTT-TGAAGA-GATGATCTCCA-CCGC--GG-AGGAGTTCTACCAGACCCTGGGCATCCCATACCACATCGTGAATATTGTCTCA-GGTT-CTTTGAATCACGCTGCCAGTAAGAAGCTTGACCTGG--AGGCCTGGTTTCCGGGC-TCGGGAGCCTTCCGGGAGCTG--GT-CTC-CTGTTCTA-ACTGCACAGACTACCAGGCTCGCCGCCTCCGAATCCGATACGGGCAAACC-A--AGAAGATGATGGACAAGGTGGAGTTTGTCCACATGCTCAAC-GCCACCATG-T-GTGCCACTACCC-GCACCATCTGCGCCAT-C-CT--G-GAGAACTACCAGACGGA-G---AAGGGCA--T-C-G-TCG--TGCC--CGA--GAAGTTG-AAGGA-GTT-CATG-CCGC-CAGGTCTCCAAGAACTGATTCCCT-TTG-TGAAGCCTGCGCCCATTGACCAGGAGCCAT-CGAAGAAG--CAGAAGAA---GCAGCAGGAGGGCAGCAAAAACAA-AGGGGCAGAGAGCGATGTCCCCCTGGAGAGCCGGCTGCAGAGCATGGTGCTCGCCGATTCCTGAAC-ATT-CCTTCTC--C-CCAGTTCGGTCAGCTGG-GATCCCAGAGCCTGC-CCA-CAGG-CGGGGA-C--G-CCAGACATGC-CC-TCTCATCGCCTGCACCGACT-GACTGCATTGCTGAAACGGGAGCCCTCTGCC-AT-GCACACCGCAG-TGT---TC-CTGTCTGCTCGCATGGGCCTGGGACGCAACCACTGAGGACTGAGGAAGTCATGCCATGAGCCTCCCCAGCAGAGGTGAGGACTCGCCCGC-AGTCCTCCGCCTGGGCCTCAAACCCTGGCTCACAGCTCTCCCTGGAACCAC-ACTCACTTG-TGCTTTTCCTCCTAAATAAAG-CT-GTT-CCATGTAGC-AA-GTC-A-\n",
      "     | | | ||  |||| |   ||| || |            ||   |  |  |  |               |   ||  |   |||     |   | |   |    |  |       | | |||| || ||     |||      |  | ||  | ||| ||  ||| | | ||  | | ||   | |  |   ||   |  |  ||     |    |     | ||||     |  |  | | |  | |   | |||   |||        || ||   |   ||   ||  |    ||   ||   || | ||       | |        || |||||     |||  ||| ||||   | ||       ||| | || || | |   ||| |  ||||  ||    | || |||   | || | |  | | | |||  || | ||| | | ||   | |  |  || ||| | ||  | |||   ||    | |  |     |  |  ||||| ||        |   | |  | || | ||       ||      |  | ||   ||   |||           |   | | ||| || |||    |      |  ||   | |||   | |   | ||  ||  | |  |  | ||||||  | || | ||| |         |  |||| |  || |||   | |    ||    || |  | ||| ||    |   |  |   | |  |||| | |  |    || ||||||     ||      |  |  |    || |  |  | || ||   ||   |  ||  ||||| |     || |   |||||  ||||  |||| ||||  ||  | | | |    |||| |   |  | || |   || |   |||  |||      |||   | | | | | | ||    ||    |  ||   |     |||   |   ||   || |  | | |||     |  ||   ||| |  |       ||||| |  ||| |||  |  | || |  | ||  | |||  || | |    |  |   |      | ||     || ||||  || | | |   |  | |  ||   | |   || ||| |  |    | |  |   || |||| |    || | | ||  |  |      |||  |||    |    |||  |   ||| ||  | | |||   || | |   |  ||| |   | |  | ||||| | ||     | | |  |     |  |   | ||   |  ||| |  | ||||  |  |   |     |      || |  |   ||  ||||  | | | |||    || || ||| | || | |  |  | ||  | | |  ||    |||  | |   || |||   | | | ||   ||||  | |  ||| ||  || |  ||| | |  |||| | ||| |    | | ||     |  ||| || |   | ||   | |      ||  ||| |    ||   |          ||  |       | |          |     | |||||| | |  |||     |    |  | | || |  ||  |      ||  |   | | | || | ||  | ||    |  |  |||   ||    || |  ||  ||| |||| |    | |  | ||||   ||  || | | ||  || | |   |   ||  | | | | | ||   | |   ||||   |  | | | |||   ||    || | || |  |  |   || |||||  |    | ||   ||||      ||  || |   ||  |         |   || | | || |||  ||  ||    |   |    ||||||  |    | |   |  |  |     | | || | || ||            || |||| |  |   ||| |  || || ||| | \n",
      "-----G-T-G-TCAGTGGAAC---TTT-GG-C------------AG---C--A--G--T---------------G---CG--T---GGA-----G---C-T---T----T--T-------G-C-GCGA-TGAGC-----TGC------C-TG-CC-CAGCAA-TT-CAAC-A-CCTG--G-ATCC---GTC--C---AC---T--A-CAG-----G--TCG-----A-AGCC-----G--A--A-G-G--CGA---C-GAG---TTG--------CG-TG---T---TT---AC-GC----GC---CC---AA-TCGT----TTTG-T--------TCTCGACT--GGGTCA-ACGA-GAAG---TACC-------TGA-G-CC-GC-G-T---GCT-C--GAAT-TGC----TCGATGAA---CACG-GCAACGGCCTCGCA--CC-C-GTG-CTC-TC--CTTATTA--AT-AGGCA-GC--A-AAC---GT----A-G--C-----T--C-CGCACC-TC--------G---T-G--C-TGCG-CC-------GA------A-CGCGC-CATT---GGC-----------C---GCT-GCT-GC-GTC----G------C--AA---G-CCC--AG-G---C-GG--CA--C-CGGT--TGCCAGTA--CACC-T-GCA-C---------C--GGCT-C-CTT-CCA---A-A---TCG----TC-T--GCGAA-GA----A---A--A--AT-G--CAGC-C-G--A----GAATGAAGA-----AC-----CG--T--C----GC-G-CG--ATAG-CT--TCG---A--CC--CGATG-G-----CC-G--GTGCCA-GCTCC-CAGCAAGCCC--CG-AT-C-CGT---GCCGA-A--CA--GCGC-A---CC-GTTCAGG--TTG------AAG---G-T-G-C-G-CTCA---AGC---AC-ACC---A-----GCT---A---CC--TGA-A--C-C-GCA-----C--GT---TCACG--T-------TCGAG-A-ATTTCGTC-GA-AG-GT-A--A-AT--CCAAC-CAG-C-T----G--G--CT-----CG-TG-----CAGCCGCCTGGCA-G-G---T--C-G--CC---G-A---CA-ACC-C--C----A-A--G---CACGGTTAC----AA-C-C-CT--C--T------CTT--CCT--TTA----TGG--T---GGCGTC--G-G-CTT---GG-G-T-AAG-ACTCAC---T-T-GA-TGCAC-G-CT-----G-T-G--G-----G--T---A-AC---C--ACCTATTA-AAGA--A--G---A-----A------CC-C--G---AA-TGCCA--A-GGTCGTG----TA-CCTGCA-C-TC-G-G--A-GCGCTTCGTG-G--CT----GAC--ATGGTCAA-GGC-CCTGCAGCTC-AATGCCATC-AATGAA-TT-CAA-G-CGTTTC-T-ACCGCTC-GGT-T----G-A-TG-----C-GTTGCTG-A---T-CG---A-T------GA--CATTC----AA-TTC-------TTTGC--C-------C-G---------TA-----A-AGAGCG-T-T--CCC-----A----G--G-A-AG-A--GT--T------TT--T---CCA-TACC-T-TCAACGCC----C--T--GCT--CGA----AG-G--TG-GCCAGCAGGTC----ATCTTGACCAG---TG-ACCGT-T-AT--CC-G-A---A--AGA--G-A-T-C-G-AA---G-G---TCTG--GA-AG-A-A-CGC--CTG-AAATCGC-GT-T--T--C---GG-CTGGG--G----C-CT---GACT------GT--TG-C---AG--T---------A---GA-G-C-CG-CCG-GAG--CT----C---G----AAACCC--G----C-G---T--C--G-----CGA-TC-C-TGATG------------AA-AAAGGC-CG--ACCA-G--GCGAAAGTCGAC\n",
      "  Score=873\n",
      "\n"
     ]
    }
   ],
   "source": [
    "Global = pairwise2.align.globalxx(SeqX,SeqY)\n",
    "print(format_alignment(*Global[0]))"
   ]
  },
  {
   "cell_type": "markdown",
   "metadata": {},
   "source": [
    "+ Find and display the Hamming and Levenshtein distance between Sequence A and B"
   ]
  },
  {
   "cell_type": "code",
   "execution_count": 75,
   "metadata": {},
   "outputs": [],
   "source": [
    "def Hamming(seq):\n",
    "    h = []\n",
    "    for x,y in zip(SeqX,SeqY):\n",
    "        if(x!=y):\n",
    "            h.append((x,y))\n",
    "    return len(h)    \n",
    "    # print(h)"
   ]
  },
  {
   "cell_type": "code",
   "execution_count": 76,
   "metadata": {},
   "outputs": [
    {
     "data": {
      "text/plain": [
       "755"
      ]
     },
     "execution_count": 76,
     "metadata": {},
     "output_type": "execute_result"
    }
   ],
   "source": [
    "Hamming(SeqZ)"
   ]
  },
  {
   "cell_type": "code",
   "execution_count": 72,
   "metadata": {},
   "outputs": [
    {
     "name": "stdout",
     "output_type": "stream",
     "text": [
      "1028\n"
     ]
    }
   ],
   "source": [
    "from Levenshtein import distance\n",
    "\n",
    "print(distance(SeqX,SeqY))"
   ]
  }
 ],
 "metadata": {
  "kernelspec": {
   "display_name": "Python 3",
   "language": "python",
   "name": "python3"
  },
  "language_info": {
   "codemirror_mode": {
    "name": "ipython",
    "version": 3
   },
   "file_extension": ".py",
   "mimetype": "text/x-python",
   "name": "python",
   "nbconvert_exporter": "python",
   "pygments_lexer": "ipython3",
   "version": "3.10.5"
  }
 },
 "nbformat": 4,
 "nbformat_minor": 2
}
