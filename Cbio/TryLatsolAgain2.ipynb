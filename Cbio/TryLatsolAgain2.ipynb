{
 "cells": [
  {
   "cell_type": "markdown",
   "metadata": {},
   "source": [
    "For given DNA sequences:\n",
    "Sequence X is obtained from FASTA file (x.fasta)\n",
    "Sequence Y is obtained from FASTA file (y.fasta)"
   ]
  },
  {
   "cell_type": "markdown",
   "metadata": {},
   "source": [
    "The sequences might be contain ambiguous letters. Use seq = seq.replace(“<letter>”, “”) function to\n",
    "remove the unwanted letter from the sequence.\n",
    "\n",
    "<small>The ambiguous letters can be any character so filter the sequence after reading it from fasta file is a must.<small>"
   ]
  },
  {
   "cell_type": "code",
   "execution_count": 1,
   "metadata": {},
   "outputs": [],
   "source": [
    "from Bio.Seq import Seq\n",
    "from Bio import SeqIO"
   ]
  },
  {
   "cell_type": "code",
   "execution_count": 4,
   "metadata": {},
   "outputs": [],
   "source": [
    "ReadX = SeqIO.read(\"Latsol/x.fasta\",\"fasta\")\n",
    "ReadY = SeqIO.read(\"Latsol/y.fasta\",\"fasta\")\n",
    "\n",
    "SeqX =Seq(ReadX.seq)\n",
    "SeqY =Seq(ReadY.seq)"
   ]
  },
  {
   "cell_type": "code",
   "execution_count": 6,
   "metadata": {},
   "outputs": [],
   "source": [
    "def clean(Seq):\n",
    "    for letter in \"BDEFHIJKLMNOPQRUVWXYZ\":\n",
    "        Seq = Seq.replace(letter,\"\")\n",
    "    return Seq"
   ]
  },
  {
   "cell_type": "code",
   "execution_count": 7,
   "metadata": {},
   "outputs": [
    {
     "name": "stdout",
     "output_type": "stream",
     "text": [
      "1883\n",
      "1050\n"
     ]
    }
   ],
   "source": [
    "print(len(SeqX))\n",
    "print(len(SeqY))"
   ]
  },
  {
   "cell_type": "code",
   "execution_count": 8,
   "metadata": {},
   "outputs": [],
   "source": [
    "SeqX = clean(SeqX)\n",
    "SeqY = clean(SeqY)"
   ]
  },
  {
   "cell_type": "markdown",
   "metadata": {},
   "source": [
    "# 1. Sequence Manipulation:\n",
    "* Display the total length of Sequence X and Y"
   ]
  },
  {
   "cell_type": "code",
   "execution_count": 9,
   "metadata": {},
   "outputs": [
    {
     "name": "stdout",
     "output_type": "stream",
     "text": [
      "1865\n",
      "1050\n"
     ]
    }
   ],
   "source": [
    "print(len(SeqX))\n",
    "print(len(SeqY))"
   ]
  },
  {
   "cell_type": "markdown",
   "metadata": {},
   "source": [
    "* Display which index the first time the codon (CGC) appears in Sequence X and Y."
   ]
  },
  {
   "cell_type": "code",
   "execution_count": 10,
   "metadata": {},
   "outputs": [
    {
     "name": "stdout",
     "output_type": "stream",
     "text": [
      "51\n",
      "39\n"
     ]
    }
   ],
   "source": [
    "print(SeqX.find(\"CGC\"))\n",
    "print(SeqY.find(\"CGC\"))"
   ]
  },
  {
   "cell_type": "markdown",
   "metadata": {},
   "source": [
    "## Create a new sequence using the following task below:\n",
    "-\n",
    "    - Take the first 10 nucleotides from Sequence X and the last 5 nucleotides from Sequence X.\n",
    "    - o Take the first 20 nucleotides from Sequence Y and the last 3 nucleotides from Sequence Y.\n",
    "    - Combine both of the string above and reverse it to a new sequence, Sequence Z."
   ]
  },
  {
   "cell_type": "code",
   "execution_count": 13,
   "metadata": {},
   "outputs": [
    {
     "data": {
      "text/plain": [
       "Seq('CAGACGGTTTCAAGGTGACTGTGACTGAGGTTGTGGTA')"
      ]
     },
     "execution_count": 13,
     "metadata": {},
     "output_type": "execute_result"
    }
   ],
   "source": [
    "Seq1 = SeqX[:10]+SeqX[-5:]\n",
    "Seq2 = SeqY[:20]+SeqY[-3:]\n",
    "SeqZ= Seq1 + Seq2\n",
    "SeqZ = SeqZ[::-1]\n",
    "\n",
    "SeqZ"
   ]
  },
  {
   "cell_type": "markdown",
   "metadata": {},
   "source": [
    "# 2. Sequence Analysis & Plotting\n",
    "* Display the nucleotides base (A and C) frequency for Sequence C with a chart using matplotlib\n",
    "library. You are free to plot using bar or pie chart."
   ]
  },
  {
   "cell_type": "code",
   "execution_count": 14,
   "metadata": {},
   "outputs": [],
   "source": [
    "import matplotlib.pyplot as plt\n",
    "from collections import Counter"
   ]
  },
  {
   "cell_type": "code",
   "execution_count": 16,
   "metadata": {},
   "outputs": [],
   "source": [
    "freq = Counter(SeqZ)\n",
    "\n",
    "freqKey = ['A','C']\n",
    "freqVal = [freq[key]for key in freqKey]"
   ]
  },
  {
   "cell_type": "code",
   "execution_count": 17,
   "metadata": {},
   "outputs": [
    {
     "data": {
      "text/plain": [
       "<BarContainer object of 2 artists>"
      ]
     },
     "execution_count": 17,
     "metadata": {},
     "output_type": "execute_result"
    },
    {
     "data": {
      "image/png": "[encoded data removed]",
      "text/plain": [
       "<Figure size 640x480 with 1 Axes>"
      ]
     },
     "metadata": {},
     "output_type": "display_data"
    }
   ],
   "source": [
    "plt.bar(freqKey,freqVal)"
   ]
  },
  {
   "cell_type": "markdown",
   "metadata": {},
   "source": [
    "+ Display GC and AT content percentage for Sequence C."
   ]
  },
  {
   "cell_type": "code",
   "execution_count": 19,
   "metadata": {},
   "outputs": [
    {
     "name": "stdout",
     "output_type": "stream",
     "text": [
      "50.0 50.0\n"
     ]
    }
   ],
   "source": [
    "from Bio.SeqUtils import GC123\n",
    "\n",
    "GCsZ = GC123(SeqZ)[0]\n",
    "ATsZ = 100- GCsZ\n",
    "\n",
    "print(GCsZ,ATsZ)"
   ]
  },
  {
   "cell_type": "markdown",
   "metadata": {},
   "source": [
    "+ Display melting temperature for Sequence C using Wallace method."
   ]
  },
  {
   "cell_type": "code",
   "execution_count": 20,
   "metadata": {},
   "outputs": [
    {
     "name": "stdout",
     "output_type": "stream",
     "text": [
      "114.00\n"
     ]
    }
   ],
   "source": [
    "from Bio.SeqUtils import MeltingTemp as mt\n",
    "\n",
    "print(\"%.2f\" % mt.Tm_Wallace(SeqZ))"
   ]
  },
  {
   "cell_type": "markdown",
   "metadata": {},
   "source": [
    "+ Display molecular weight for Sequence C."
   ]
  },
  {
   "cell_type": "code",
   "execution_count": 21,
   "metadata": {},
   "outputs": [
    {
     "name": "stdout",
     "output_type": "stream",
     "text": [
      "11924.58\n"
     ]
    }
   ],
   "source": [
    "from Bio.SeqUtils import molecular_weight as mw\n",
    "print(\"%.2f\" % mw(SeqZ))"
   ]
  },
  {
   "cell_type": "markdown",
   "metadata": {},
   "source": [
    "# 3. DNA and mRNA Protein Synthesis:\n",
    "+ Transcribe and display the DNA sequence C into mRNA Sequence."
   ]
  },
  {
   "cell_type": "code",
   "execution_count": 22,
   "metadata": {},
   "outputs": [
    {
     "data": {
      "text/plain": [
       "Seq('CAGACGGUUUCAAGGUGACUGUGACUGAGGUUGUGGUA')"
      ]
     },
     "execution_count": 22,
     "metadata": {},
     "output_type": "execute_result"
    }
   ],
   "source": [
    "mRNAsZ = SeqZ.transcribe()\n",
    "mRNAsZ"
   ]
  },
  {
   "cell_type": "markdown",
   "metadata": {},
   "source": [
    "+ Translate and display the mRNA sequence C into amino acids Sequence."
   ]
  },
  {
   "cell_type": "code",
   "execution_count": 23,
   "metadata": {},
   "outputs": [
    {
     "name": "stderr",
     "output_type": "stream",
     "text": [
      "c:\\Users\\darre\\AppData\\Local\\Programs\\Python\\Python310\\lib\\site-packages\\Bio\\Seq.py:2880: BiopythonWarning: Partial codon, len(sequence) not a multiple of three. Explicitly trim the sequence or add trailing N before translation. This may become an error in future.\n",
      "  warnings.warn(\n"
     ]
    },
    {
     "data": {
      "text/plain": [
       "Seq('QTVSR*L*LRLW')"
      ]
     },
     "execution_count": 23,
     "metadata": {},
     "output_type": "execute_result"
    }
   ],
   "source": [
    "AminosZ = SeqZ.translate()\n",
    "AminosZ"
   ]
  },
  {
   "cell_type": "code",
   "execution_count": 24,
   "metadata": {},
   "outputs": [
    {
     "data": {
      "text/plain": [
       "'GlnThrValSerArgTerLeuTerLeuArgLeuTrp'"
      ]
     },
     "execution_count": 24,
     "metadata": {},
     "output_type": "execute_result"
    }
   ],
   "source": [
    "from Bio.SeqUtils import seq3\n",
    "ProtsZ = seq3(AminosZ)\n",
    "ProtsZ"
   ]
  },
  {
   "cell_type": "markdown",
   "metadata": {},
   "source": [
    "# 4. Sequence Alginment & Similarities:\n",
    "+ Perform local alignment pairwise between sequence A and sequence B and display the alignment\n",
    "score."
   ]
  },
  {
   "cell_type": "code",
   "execution_count": 26,
   "metadata": {},
   "outputs": [],
   "source": [
    "from Bio import pairwise2\n",
    "from Bio.pairwise2 import format_alignment"
   ]
  },
  {
   "cell_type": "code",
   "execution_count": 35,
   "metadata": {},
   "outputs": [
    {
     "name": "stdout",
     "output_type": "stream",
     "text": [
      "6 GTTGGATC--TGGA-CTTGTTTCGGACGGATAAAGGAGGAGACCCGGACCGCATCCGAGAGACGCAAAAGAACCGCTTCAAGGACCCGGGACTCGTGGATCGGCTGGTGAAGGCGGACGGCGAGTG-GCGAAAATGCAGATTTCA-GACCG-A-CAACTTG-AACAAGC-TGAAGAA-CCTATG-CAGCAAGACAATTGGAG-AGAAAATGAA--GAAAAAAGAGCCAGTGGGAAATGATGAGTCC-ATTCCGGAGAACTTGTTAAATCTCGATGACCTCACTTCAGACA-CTTTAGCTAACCTGAAAGT-GTCACA---GATCAAAAAACTC-CGACTCC---TCAT-CGACGAAGCCAT-CCTGAAGTGTGACGCCCAGCGGATAAAGCTGCAGGAATA-GCGGTTT-GA-GAACCTC-CGCG-A--G-C-T-GCATCCCTCGGTGCC-CATCAG-T-A--ACGATGAGG-ATGCGGACAACAAAGTCGAGAGGATCTGGGGTGACT-GCACCGTCAAGAAGAAGTACTCGCACGTG-GACCTGGTGGTGATGGTCGAT-G-GCT--TTGAAGGCGAAAAAGGGGTCGTGG-TGGCTGGCAGTCGAGGGTACTTCCTGAAGGGGCCCCTG-GTGTTCCTGGAACAGGCGC--TCAT-CCAGTACGC-CCTTCGCACCTTGGGAAGTCGGGGCTACA-TTCCCATTTACACCC-CGTTTTTCATGAG-GAAGGAGGTCATGCAGGAGG-TGGCACAGCTCAGCCAGTTTGA-TGAAGAGCTTTACAAGGT-GATTGGCAAAGGCAGT-GAAA-AGTCTGA-CGACAACTCCTACGATGAGAAATACCTGAT-TGCCAC-CTCCG-AGCA-GCCCATCGC-TGCTC-TCCA-CCGAGATG-AGTG-GCTACGGCCAG---AGGATTTGCCCATCAAGTATGCTGGCCTGTC-CACCT-GCTTT-CG-CCAGGAGGTGGGCTCCCACGGCCGG-GACACCCGCGGCATCTTCCGAGTCCATCA-GTTTGAGAAGATCGAGCAG-TTT-GTCT-AC-GCGTCACCACATGAC-AACA-AGTCGTGGGAGATGTT-TGAAGA-GATGATCTCCA-CCGC--GG-AGGAGTTCTACCAGACCCTGGGCATCCCATACCACATCGTGAATATTGTCTCA-GGTT-CTTTGAATCACGCTGCCAGTAAGAAGCTTGACCTGG--AGGCCTGGTTTCCGGGC-TCGGGAGCCTTCCGGGAGCTG--GT-CTC-CTGTTCTA-ACTGCACAGACTACCAGGCTCGCCGCCTCCGAATCCGATACGGGCAAACC-A--AGAAGATGATGGACAAGGTGGAGTTTGTCCACATGCTCAAC-GCCACCATG-T-GTGCCACTACCC-GCACCATCTGCGCCAT-C-CT--G-GAGAACTACCAGACGGA-G---AAGGGCA--T-C-G-TCG--TGCC--CGA--GAAGTTG-AAGGA-GTT-CATG-CCGC-CAGGTCTCCAAGAACTGATTCCCT-TTG-TGAAGCCTGCGCCCATTGACCAGGAGCCAT-CGAAGAAG--CAGAAGAA---GCAGCAGGAGGGCAGCAAAAACAA-AGGGGCAGAGAGCGATGTCCCCCTGGAGAGCCGGCTGCAGAGCATGGTGCTCGCCGATTCCTGAAC-ATT-CCTTCTC--C-CCAGTTCGGTCAGCTGG-GATCCCAGAGCCTGC-CCA-CAGG-CGGGGA-C--G-CCAGACATGC-CC-TCTCATCGCCTGCACCGACT-GACTGCATTGCTGAAACGGGAGCCCTCTGCC-AT-GCACACCGCAG-TGT---TC-CTGTCTGCTCGCATGGGCCTGGGACGCAACCACTGAGGACTGAGGAAGTCATGCCATGAGCCTCCCCAGCAGAGGTGAGGACTCGCCCGC-AGTCCTCCGCCTGGGCCTCAAACCCTGGCTCACAGCTCTCCCTGGAACCAC-ACTCACTTG-TGCTTTTCCTCCTAAATAAAG-CT-GTT-CCATGTAGC-AA-GTC-A\n",
      "  | | | ||  |||| |   ||| || |            ||   |  |  |  |               |   ||  |   |||     |   | |   |    |  |       | | |||| || ||     |||      |  | ||  | ||| ||  ||| | | ||  | | ||   | |  |   ||   |  |  ||     |    |     | ||||     |  |  | | |  | |   | |||   |||        || ||   |   ||   ||  |    ||   ||   || | ||       | |        || |||||     |||  ||| ||||   | ||       ||| | || || | |   ||| |  ||||  ||    | || |||   | || | |  | | | |||  || | ||| | | ||   | |  |  || ||| | ||  | |||   ||    | |  |     |  |  ||||| ||        |   | |  | || | ||       ||      |  | ||   ||   |||           |   | | ||| || |||    |      |  ||   | |||   | |   | ||  ||  | |  |  | ||||||  | || | ||| |         |  |||| |  || |||   | |    ||    || |  | ||| ||    |   |  |   | |  |||| | |  |    || ||||||     ||      |  |  |    || |  |  | || ||   ||   |  ||  ||||| |     || |   |||||  ||||  |||| ||||  ||  | | | |    |||| |   |  | || |   || |   |||  |||      |||   | | | | | | ||    ||    |  ||   |     |||   |   ||   || |  | | |||     |  ||   ||| |  |       ||||| |  ||| |||  |  | || |  | ||  | |||  || | |    |  |   |      | ||     || ||||  || | | |   |  | |  ||   | |   || ||| |  |    | |  |   || |||| |    || | | ||  |  |      |||  |||    |    |||  |   ||| ||  | | |||   || | |   |  ||| |   | |  | ||||| | ||     | | |  |     |  |   | ||   |  ||| |  | ||||  |  |   |     |      || |  |   ||  ||||  | | | |||    || || ||| | || | |  |  | ||  | | |  ||    |||  | |   || |||   | | | ||   ||||  | |  ||| ||  || |  ||| | |  |||| | ||| |    | | ||     |  ||| || |   | ||   | |      ||  ||| |    ||   |          ||  |       | |          |     | |||||| | |  |||     |    |  | | || |  ||  |      ||  |   | | | || | ||  | ||    |  |  |||   ||    || |  ||  ||| |||| |    | |  | ||||   ||  || | | ||  || | |   |   ||  | | | | | ||   | |   ||||   |  | | | |||   ||    || | || |  |  |   || |||||  |    | ||   ||||      ||  || |   ||  |         |   || | | || |||  ||  ||    |   |    ||||||  |    | |   |  |  |     | | || | || ||            || |||| |  |   ||| |  || || ||| |\n",
      "1 G-T-G-TCAGTGGAAC---TTT-GG-C------------AG---C--A--G--T---------------G---CG--T---GGA-----G---C-T---T----T--T-------G-C-GCGA-TGAGC-----TGC------C-TG-CC-CAGCAA-TT-CAAC-A-CCTG--G-ATCC---GTC--C---AC---T--A-CAG-----G--TCG-----A-AGCC-----G--A--A-G-G--CGA---C-GAG---TTG--------CG-TG---T---TT---AC-GC----GC---CC---AA-TCGT----TTTG-T--------TCTCGACT--GGGTCA-ACGA-GAAG---TACC-------TGA-G-CC-GC-G-T---GCT-C--GAAT-TGC----TCGATGAA---CACG-GCAACGGCCTCGCA--CC-C-GTG-CTC-TC--CTTATTA--AT-AGGCA-GC--A-AAC---GT----A-G--C-----T--C-CGCACC-TC--------G---T-G--C-TGCG-CC-------GA------A-CGCGC-CATT---GGC-----------C---GCT-GCT-GC-GTC----G------C--AA---G-CCC--AG-G---C-GG--CA--C-CGGT--TGCCAGTA--CACC-T-GCA-C---------C--GGCT-C-CTT-CCA---A-A---TCG----TC-T--GCGAA-GA----A---A--A--AT-G--CAGC-C-G--A----GAATGAAGA-----AC-----CG--T--C----GC-G-CG--ATAG-CT--TCG---A--CC--CGATG-G-----CC-G--GTGCCA-GCTCC-CAGCAAGCCC--CG-AT-C-CGT---GCCGA-A--CA--GCGC-A---CC-GTTCAGG--TTG------AAG---G-T-G-C-G-CTCA---AGC---AC-ACC---A-----GCT---A---CC--TGA-A--C-C-GCA-----C--GT---TCACG--T-------TCGAG-A-ATTTCGTC-GA-AG-GT-A--A-AT--CCAAC-CAG-C-T----G--G--CT-----CG-TG-----CAGCCGCCTGGCA-G-G---T--C-G--CC---G-A---CA-ACC-C--C----A-A--G---CACGGTTAC----AA-C-C-CT--C--T------CTT--CCT--TTA----TGG--T---GGCGTC--G-G-CTT---GG-G-T-AAG-ACTCAC---T-T-GA-TGCAC-G-CT-----G-T-G--G-----G--T---A-AC---C--ACCTATTA-AAGA--A--G---A-----A------CC-C--G---AA-TGCCA--A-GGTCGTG----TA-CCTGCA-C-TC-G-G--A-GCGCTTCGTG-G--CT----GAC--ATGGTCAA-GGC-CCTGCAGCTC-AATGCCATC-AATGAA-TT-CAA-G-CGTTTC-T-ACCGCTC-GGT-T----G-A-TG-----C-GTTGCTG-A---T-CG---A-T------GA--CATTC----AA-TTC-------TTTGC--C-------C-G---------TA-----A-AGAGCG-T-T--CCC-----A----G--G-A-AG-A--GT--T------TT--T---CCA-TACC-T-TCAACGCC----C--T--GCT--CGA----AG-G--TG-GCCAGCAGGTC----ATCTTGACCAG---TG-ACCGT-T-AT--CC-G-A---A--AGA--G-A-T-C-G-AA---G-G---TCTG--GA-AG-A-A-CGC--CTG-AAATCGC-GT-T--T--C---GG-CTGGG--G----C-CT---GACT------GT--TG-C---AG--T---------A---GA-G-C-CG-CCG-GAG--CT----C---G----AAACCC--G----C-G---T--C--G-----CGA-TC-C-TGATG------------AA-AAAGGC-CG--ACCA-G--GCGAAAGTCGA\n",
      "  Score=873\n",
      "\n"
     ]
    }
   ],
   "source": [
    "Local1 = pairwise2.align.localxx(SeqX,SeqY)\n",
    "print(format_alignment(*Local1[0]))"
   ]
  },
  {
   "cell_type": "code",
   "execution_count": 34,
   "metadata": {},
   "outputs": [
    {
     "name": "stdout",
     "output_type": "stream",
     "text": [
      "4 GTGT---TGGATCTGGACTTGTTTCGGACGGATAAAGGAG-GAGACCCGGACCGCATCCGAGAGACGCAAAAGAACCGCTTCAAGGACCCGGGACTCGTGGATCGGCTGG-TGAAGGC-GGACGGCGAGTGG--CGAAAATGCAGATTTCAGACCGACAACTTGAACAAGCTGAAGAACCTATG--CAGCAAG-ACAATTGGAGAGAAAAT-GAAGAAAAAAGAGCCAGTGGGAAATGATGAGTCC-ATTCCGGAGAACTTGTTAAATCTCGATGACCTCACTTCAGACACTTTAGCTAACCTGAAA--G---TGTCACAGATCAAAAAACTCCGACTCC---TCATCGACGAAGCCAT-CCTGAAGTGTGACGCCCAGCGGATAAAGCTGCAGGAATAGCGGTTT-GA-GAACCTC-CG----CGAGC-T-GCATCCCTCGGTGC---CC--ATCAGTAACGATGAGG-ATGCGGACAACAAAGTCGAGAGGATCTGGGGTGACTGCACCGTCAAGAAGAAGTACT-CGC---ACGTGGACCTGGTGGTGATGGTCGATGGCTTTGAAGGCGAAAAAGGGGTCGTGGTGGCTGGCAGTCG--AGGGTACTTCCTGAAGG-GGC-CCCTGGTGTTCCTGGAACAGGCGCTCATCCAGTACGC-CCTTCGCACCTTGGGAAGTCGGGGCTACATTCCCATTTACACCC-CGTTTTTCATGAG-GAAGGAGGTCATGCAGGAGGTGGCACAGCTC-AGCCAGTTTGATGAAGAGCTTTACAAG-GTGATTGGCAAAG-GCAGTGAAA-AGTCTGA-CGACAACTCCTACGATGAGAAATACCTGATTGCCACCTCCGAGCA-GCCC--ATCGC-TGCTCTCCACCGAGATG-AGTG-GCTACGGC---CAGAGGATTTGCCCATCAAGTATGCTG-GCCTGTCCACCTGCTTT-CGCCAGGAGGTGGGCTCCCACGGCCGG-GACACCCGCGGCATCTTCCGAGTCCATCA-GTTTGAGAAGATCGAGCAGTTT-GTCTACGCGTCACCACATGAC-AACAAGTCGTGGGAGA-T-GTTTGAAGAGATGATCTCCA-CCGC--GG-AGGAGTTCTACCAGACCCTGGGCATCCCATACCACATCGTGAATATTGTCTCA-GGTT-CTTTGAATCACGCTGCCAGTAAGAAGCTTGACC--TGGAGGCCTGGTTTCCGGGC-TCGGGAGCCTTCCGGG--AGCTGGT-CTC-CT-GTTCTAACTGCACAGACTACCAGGCTCGCCGCCTCCG-AATCCGATACGGGC-A--AACCAAGAAGATGATGGACAAGGTGGAGTTTGTCC-ACATGCTCAACGCCACCATGT-GTGCCACTACCCGCAC-C--ATCTGCGCCATCC-TGGAGAACTACCAGACGGA-G---AAGG----GCATCG-TCG--TGCC--CGA--GAAGTTGAAGGA-GTT-C-ATGCCGC-CAGGTCTCCAAGAACTGATTCCCTTTG-TGAAGCCTGCGCCCATTGACCAGGAGCCAT-CGAAGAAG--CAGAAGAA---GCAGCAGGAGGGCAGCAAAAACAAAGGGGCAGAGAGCGATGTCCCCCT-GGAGAGCCGGCTGCAGAGCATGGTGCTCGCCGATTCCTGAACATTCCTTCT--C-CCCAGTTCGGTCAGCTGG-GATCCCAGAGCCTGCCCA-CAGG-CGGGGA-C--G-CCAGACATGCCC-TCTCATCGCCTGCACCGACTGACTGCATTGCTGAAACGGGAGCCCTCTGCC--ATGCACACCGCAG-TGT---TC-CTGTCTGCTCGCATGGGCCTGGGACGCAACCACTGAGGACTGAGGAAGTCATGCCATGAGCCTCCCCAGCAGAGGTGAGGACTCGCCCGCAGTCCTCCGCCTGGGCCTCAAACCCTGGC-TCACAGCTCTCCCTGGAACCACACTCACTTG-TGCTTTTCCTCCTAAATAAAG--CTGTT-CCATGTAGC--AAGTC-A\n",
      "  ||||   ||||     ||   ||| || |      ||.|| |     ||       |  | ||              ||||              |  ||   | ||  | |||  || |  |  |   | |  |    | ||| |||         ||||    ||   |||  ||.||   |  || |    |||   ||        | ||         ||||     |||  |  |    | |   | |||   |||        || ||   |   ||   ||.|    ||   ||   ||  |   |||      |       || |||||     |||.||| ||||   | |||||        |||  |||  |   ||| |  ||||.||    | || |||   | ||    || || | ||| |||   ||||   ||  ||   ||   || ||| | ||  | |||   ||  ||     ||       |.||||| ||        ||.|| |||   |||.|  ||        ||      ||||        ||          |    | ||| || ||||  ||    |  ||   ||| ||| ||  |||     ||              ||||||  | |||  |||||            |||| |.|| |||   | |    ||    || |  | ||||.|    |   |  |  ||   |||| | ||  |     |||||||     ||    ||      |   | || |    | || ||   ||||  |     ||||| |     ||.|  |||||.||||.|||| ||||  ||| | ||       |||| |   |  | || ||  |   ||| |   |||      |||   | || ||   ||.|   ||    |.|||        |||   ||  |    || |||    ||| |      ||   ||| |||.|||||          ||| |||.|.| || |  | ||  | |||.|| | |||     | |  ||             || ||||  || |||   ||     | ||    | |   || ||| |  |   ||    |   || |||| |    || | | || |   |      |||  ||  |  |    ||||     ||| ||||    |||  |||  ||      ||| || |     | ||||| | ||     | | |  |     | || ||   ||   | |  |   |||||||      ||              || | |||| ||| |       || |||    ||||.|||| |  |   ||||  |.| |||    ||    |||  | |   ||||    |||  | ||   ||||  | |  ||| ||.|||   ||| | |  |||| | ||| |    ||  ||     |.||| |||    | ||   | |||        ||| |    ||   |          ||  |       | |.||              |||||| | ||||    |||           ||||  |  |  |      |||     |||.|||||   | |||  |       |||   ||    || |  ||.||| |||| |    | |  | ||||   ||.|| | | ||  || |.|   |  ||  | ||  | |||  ||      ||||    | | | | |||   ||    || | || |  ||     || |||||  ||     ||   ||||      ||  |||    ||  |       ||||       | || |||.||  || ||          ||||||  || ||   ||        ||       || | || ||            || ||||  | |   ||| |  ||  ||||| |\n",
      "1 GTGTCAGTGGA-----AC---TTT-GG-C------AGCAGTG-----CG-------T--G-GA--------------GCTT--------------T--TG---C-GC--GATGA--GCTG--C--C---T-GCCC----A-GCA-ATT---------CAAC----AC---CTG--GATCC---GTCCA-C---TACA---GG--------TCGA---------AGCC-----GAA--G--G----CGA---C-GAG---TTG--------CG-TG---T---TT---ACGC----GC---CC---AATCGTTTTGT------T-------CT-CGACT--GGGTCAACGA-GAAG---TACCTGA--------GCC--GCG--T---GCT-C--GAATTGC----TCGATGAA---CACGGCAACG-GCCTCGCA-CCC---GTGCTCTCCTTAT---TA---AT-AGGCA-GC--A-AAC---GT--AG-----CT-------CCGCACC-TC--------GTGCTGCGCCGAACGCG--CC--------AT------TGGC--------CG----------C----T-GCT-GC-GTCGCAAG----C--CC---AGGCGGCACC--GGT-----TG--------------CCAGTA--CACCT--GCACC------------GGCT-CCTT-CCA---A-A---TCG----TC-T--GCGAAGAA----A---A--A--TG---CAGC-CGAG--A-----ATGAAGA-----AC---CGT------C---GCGC-G----ATAG-CT--TCGAC--C-----CGATG-G-----CCGG--TGCCAGCTCCCAGCAAGCCCCGATC-CGTG-------CCGA-A--CA--GCGC-AC--CGTTCAG-G---TTG------AAG---G-TGCGC---TCAA---GC---ACACCA--------GCT---AC--C---TGA-ACC----GCA-C------GT---TCACGTTCGAGAA----------TTTCGTCGAAG-GT-A--A-AT--CCAACCAG-C-TGG----CTCG--TG-------------CAGCCGCCTGGCAGG---TC-----G-CC----G-A---CA-ACC-C--C---AA----G---CACGGTTAC----AA-C-C-CT-C---T------CTT--CCTTT--A----TGGT-----GGCGTCGG----CTT--GGGTAAG-----ACTCACTTG-----A-TGCAC-G-CT-----G-T-G--G-----GTAA-CC---AC---CTATTA---AAGAAGA------AC--------------CCGA-ATGC-CAA-G-------GTCGTG----TACCTGCACTCGGA---GCGC--TTCGTGG----CT----GAC--ATGGTCAAGGCCCTGCA--GCTC-AATGCCATC-AATGAA-TTCAAG--CGTTTCTA--CCGCTC-GGT-T----GA--TG-----CGTTGCTGA----T-CG---A-TGA--------CATTC----AA-TTC-------TTTGC--C-------C-GTAA--------------AGAGCG-T-TCCC---AGGA-----------AGAG--T--T--T------TTC-----CATACCTTC-AACGCCC--T-------GCT--CGA----AG-G--TGGCCAGCAGGTC----ATCTTGACCAG---TGACCGT-T-AT--CC-GAA---A--GA--G-AT--C-GAA--GG------TCTG--GAA-G-A-A-CGC--CTG-AAATCGC-GT-T--TC-----GG-CTGGG--GC-----CT---GACT------GT--TGC----AG--T-------AGAG-------C-CG-CCGGAG--CT-CG----------AAACCC--GCGTC---GC--------GA-------TC-C-TGATG------------AA-AAAGGCC-G--ACCA-G--GCGAAAGTCGA\n",
      "  Score=1334\n",
      "\n"
     ]
    }
   ],
   "source": [
    "Local2 = pairwise2.align.localms(SeqX,SeqY,2,-1,-0.6,-0.2)\n",
    "print(format_alignment(*Local2[0]))"
   ]
  },
  {
   "cell_type": "code",
   "execution_count": 32,
   "metadata": {},
   "outputs": [
    {
     "name": "stdout",
     "output_type": "stream",
     "text": [
      "ATGGTGTTGGATC--TGGA-CTTGTTTCGGACGGATAAAGGAGGAGACCCGGACCGCATCCGAGAGACGCAAAAGAACCGCTTCAAGGACCCGGGACTCGTGGATCGGCTGGTGAAGGCGGACGGCGAGTG-GCGAAAATGCAGATTTCA-GACCG-A-CAACTTG-AACAAGC-TGAAGAA-CCTATG-CAGCAAGACAATTGGAG-AGAAAATGAA--GAAAAAAGAGCCAGTGGGAAATGATGAGTCC-ATTCCGGAGAACTTGTTAAATCTCGATGACCTCACTTCAGACA-CTTTAGCTAACCTGAAAGT-GTCACA---GATCAAAAAACTC-CGACTCC---TCAT-CGACGAAGCCAT-CCTGAAGTGTGACGCCCAGCGGATAAAGCTGCAGGAATA-GCGGTTT-GA-GAACCTC-CGCG-A--G-C-T-GCATCCCTCGGTGCC-CATCAG-T-A--ACGATGAGG-ATGCGGACAACAAAGTCGAGAGGATCTGGGGTGACT-GCACCGTCAAGAAGAAGTACTCGCACGTG-GACCTGGTGGTGATGGTCGAT-G-GCT--TTGAAGGCGAAAAAGGGGTCGTGG-TGGCTGGCAGTCGAGGGTACTTCCTGAAGGGGCCCCTG-GTGTTCCTGGAACAGGCGC--TCAT-CCAGTACGC-CCTTCGCACCTTGGGAAGTCGGGGCTACA-TTCCCATTTACACCC-CGTTTTTCATGAG-GAAGGAGGTCATGCAGGAGG-TGGCACAGCTCAGCCAGTTTGA-TGAAGAGCTTTACAAGGT-GATTGGCAAAGGCAGT-GAAA-AGTCTGA-CGACAACTCCTACGATGAGAAATACCTGAT-TGCCAC-CTCCG-AGCA-GCCCATCGC-TGCTC-TCCA-CCGAGATG-AGTG-GCTACGGCCAG---AGGATTTGCCCATCAAGTATGCTGGCCTGTC-CACCT-GCTTT-CG-CCAGGAGGTGGGCTCCCACGGCCGG-GACACCCGCGGCATCTTCCGAGTCCATCA-GTTTGAGAAGATCGAGCAG-TTT-GTCT-AC-GCGTCACCACATGAC-AACA-AGTCGTGGGAGATGTT-TGAAGA-GATGATCTCCA-CCGC--GG-AGGAGTTCTACCAGACCCTGGGCATCCCATACCACATCGTGAATATTGTCTCA-GGTT-CTTTGAATCACGCTGCCAGTAAGAAGCTTGACCTGG--AGGCCTGGTTTCCGGGC-TCGGGAGCCTTCCGGGAGCTG--GT-CTC-CTGTTCTA-ACTGCACAGACTACCAGGCTCGCCGCCTCCGAATCCGATACGGGCAAACC-A--AGAAGATGATGGACAAGGTGGAGTTTGTCCACATGCTCAAC-GCCACCATG-T-GTGCCACTACCC-GCACCATCTGCGCCAT-C-CT--G-GAGAACTACCAGACGGA-G---AAGGGCA--T-C-G-TCG--TGCC--CGA--GAAGTTG-AAGGA-GTT-CATG-CCGC-CAGGTCTCCAAGAACTGATTCCCT-TTG-TGAAGCCTGCGCCCATTGACCAGGAGCCAT-CGAAGAAG--CAGAAGAA---GCAGCAGGAGGGCAGCAAAAACAA-AGGGGCAGAGAGCGATGTCCCCCTGGAGAGCCGGCTGCAGAGCATGGTGCTCGCCGATTCCTGAAC-ATT-CCTTCTC--C-CCAGTTCGGTCAGCTGG-GATCCCAGAGCCTGC-CCA-CAGG-CGGGGA-C--G-CCAGACATGC-CC-TCTCATCGCCTGCACCGACT-GACTGCATTGCTGAAACGGGAGCCCTCTGCC-AT-GCACACCGCAG-TGT---TC-CTGTCTGCTCGCATGGGCCTGGGACGCAACCACTGAGGACTGAGGAAGTCATGCCATGAGCCTCCCCAGCAGAGGTGAGGACTCGCCCGC-AGTCCTCCGCCTGGGCCTCAAACCCTGGCTCACAGCTCTCCCTGGAACCAC-ACTCACTTG-TGCTTTTCCTCCTAAATAAAG-CT-GTT-CCATGTAGC-AA-GTC-A-\n",
      "   |   | | ||  |||| |   ||| || |            ||   |  |  |  |               |   ||  |   |||     |   | |   |    |  |       | | |||| || ||     |||      |  | ||  | ||| ||  ||| | | ||  | | ||   | |  |   ||   |  |  ||     |    |     | ||||     |  |  | | |  | |   | |||   |||        || ||   |   ||   ||  |    ||   ||   || | ||       | |        || |||||     |||  ||| ||||   | ||       ||| | || || | |   ||| |  ||||  ||    | || |||   | || | |  | | | |||  || | ||| | | ||   | |  |  || ||| | ||  | |||   ||    | |  |     |  |  ||||| ||        |   | |  | || | ||       ||      |  | ||   ||   |||           |   | | ||| || |||    |      |  ||   | |||   | |   | ||  ||  | |  |  | ||||||  | || | ||| |         |  |||| |  || |||   | |    ||    || |  | ||| ||    |   |  |   | |  |||| | |  |    || ||||||     ||      |  |  |    || |  |  | || ||   ||   |  ||  ||||| |     || |   |||||  ||||  |||| ||||  ||  | | | |    |||| |   |  | || |   || |   |||  |||      |||   | | | | | | ||    ||    |  ||   |     |||   |   ||   || |  | | |||     |  ||   ||| |  |       ||||| |  ||| |||  |  | || |  | ||  | |||  || | |    |  |   |      | ||     || ||||  || | | |   |  | |  ||   | |   || ||| |  |    | |  |   || |||| |    || | | ||  |  |      |||  |||    |    |||  |   ||| ||  | | |||   || | |   |  ||| |   | |  | ||||| | ||     | | |  |     |  |   | ||   |  ||| |  | ||||  |  |   |     |      || |  |   ||  ||||  | | | |||    || || ||| | || | |  |  | ||  | | |  ||    |||  | |   || |||   | | | ||   ||||  | |  ||| ||  || |  ||| | |  |||| | ||| |    | | ||     |  ||| || |   | ||   | |      ||  ||| |    ||   |          ||  |       | |          |     | |||||| | |  |||     |    |  | | || |  ||  |      ||  |   | | | || | ||  | ||    |  |  |||   ||    || |  ||  ||| |||| |    | |  | ||||   ||  || | | ||  || | |   |   ||  | | | | | ||   | |   ||||   |  | | | |||   ||    || | || |  |  |   || |||||  |    | ||   ||||      ||  || |   ||  |         |   || | | || |||  ||  ||    |   |    ||||||  |    | |   |  |  |     | | || | || ||            || |||| |  |   ||| |  || || ||| | \n",
      "---G---T-G-TCAGTGGAAC---TTT-GG-C------------AG---C--A--G--T---------------G---CG--T---GGA-----G---C-T---T----T--T-------G-C-GCGA-TGAGC-----TGC------C-TG-CC-CAGCAA-TT-CAAC-A-CCTG--G-ATCC---GTC--C---AC---T--A-CAG-----G--TCG-----A-AGCC-----G--A--A-G-G--CGA---C-GAG---TTG--------CG-TG---T---TT---AC-GC----GC---CC---AA-TCGT----TTTG-T--------TCTCGACT--GGGTCA-ACGA-GAAG---TACC-------TGA-G-CC-GC-G-T---GCT-C--GAAT-TGC----TCGATGAA---CACG-GCAACGGCCTCGCA--CC-C-GTG-CTC-TC--CTTATTA--AT-AGGCA-GC--A-AAC---GT----A-G--C-----T--C-CGCACC-TC--------G---T-G--C-TGCG-CC-------GA------A-CGCGC-CATT---GGC-----------C---GCT-GCT-GC-GTC----G------C--AA---G-CCC--AG-G---C-GG--CA--C-CGGT--TGCCAGTA--CACC-T-GCA-C---------C--GGCT-C-CTT-CCA---A-A---TCG----TC-T--GCGAA-GA----A---A--A--AT-G--CAGC-C-G--A----GAATGAAGA-----AC-----CG--T--C----GC-G-CG--ATAG-CT--TCG---A--CC--CGATG-G-----CC-G--GTGCCA-GCTCC-CAGCAAGCCC--CG-AT-C-CGT---GCCGA-A--CA--GCGC-A---CC-GTTCAGG--TTG------AAG---G-T-G-C-G-CTCA---AGC---AC-ACC---A-----GCT---A---CC--TGA-A--C-C-GCA-----C--GT---TCACG--T-------TCGAG-A-ATTTCGTC-GA-AG-GT-A--A-AT--CCAAC-CAG-C-T----G--G--CT-----CG-TG-----CAGCCGCCTGGCA-G-G---T--C-G--CC---G-A---CA-ACC-C--C----A-A--G---CACGGTTAC----AA-C-C-CT--C--T------CTT--CCT--TTA----TGG--T---GGCGTC--G-G-CTT---GG-G-T-AAG-ACTCAC---T-T-GA-TGCAC-G-CT-----G-T-G--G-----G--T---A-AC---C--ACCTATTA-AAGA--A--G---A-----A------CC-C--G---AA-TGCCA--A-GGTCGTG----TA-CCTGCA-C-TC-G-G--A-GCGCTTCGTG-G--CT----GAC--ATGGTCAA-GGC-CCTGCAGCTC-AATGCCATC-AATGAA-TT-CAA-G-CGTTTC-T-ACCGCTC-GGT-T----G-A-TG-----C-GTTGCTG-A---T-CG---A-T------GA--CATTC----AA-TTC-------TTTGC--C-------C-G---------TA-----A-AGAGCG-T-T--CCC-----A----G--G-A-AG-A--GT--T------TT--T---CCA-TACC-T-TCAACGCC----C--T--GCT--CGA----AG-G--TG-GCCAGCAGGTC----ATCTTGACCAG---TG-ACCGT-T-AT--CC-G-A---A--AGA--G-A-T-C-G-AA---G-G---TCTG--GA-AG-A-A-CGC--CTG-AAATCGC-GT-T--T--C---GG-CTGGG--G----C-CT---GACT------GT--TG-C---AG--T---------A---GA-G-C-CG-CCG-GAG--CT----C---G----AAACCC--G----C-G---T--C--G-----CGA-TC-C-TGATG------------AA-AAAGGC-CG--ACCA-G--GCGAAAGTCGAC\n",
      "  Score=873\n",
      "\n"
     ]
    }
   ],
   "source": [
    "Global = pairwise2.align.globalxx(SeqX,SeqY)\n",
    "print(format_alignment(*Global[0]))"
   ]
  },
  {
   "cell_type": "markdown",
   "metadata": {},
   "source": [
    "+ Find and display the Hamming and Levenshtein distance between Sequence A and B"
   ]
  },
  {
   "cell_type": "code",
   "execution_count": 36,
   "metadata": {},
   "outputs": [],
   "source": [
    "def hamming(seqA,seqB):\n",
    "    h = []\n",
    "    for x,y in zip(seqA,seqB):\n",
    "        if(x!=y):\n",
    "            h.append((x,y))\n",
    "    return len(h)"
   ]
  },
  {
   "cell_type": "code",
   "execution_count": 41,
   "metadata": {},
   "outputs": [
    {
     "data": {
      "text/plain": [
       "755"
      ]
     },
     "execution_count": 41,
     "metadata": {},
     "output_type": "execute_result"
    }
   ],
   "source": [
    "hamming(SeqX,SeqY)"
   ]
  },
  {
   "cell_type": "code",
   "execution_count": 43,
   "metadata": {},
   "outputs": [
    {
     "name": "stdout",
     "output_type": "stream",
     "text": [
      "1028\n"
     ]
    }
   ],
   "source": [
    "from Levenshtein import distance\n",
    "print(distance(SeqX,SeqY))"
   ]
  },
  {
   "cell_type": "code",
   "execution_count": 47,
   "metadata": {},
   "outputs": [
    {
     "name": "stdout",
     "output_type": "stream",
     "text": [
      "1865\n",
      "1050\n"
     ]
    }
   ],
   "source": [
    "print(len(SeqX))\n",
    "print(len(SeqY))"
   ]
  }
 ],
 "metadata": {
  "kernelspec": {
   "display_name": "Python 3",
   "language": "python",
   "name": "python3"
  },
  "language_info": {
   "codemirror_mode": {
    "name": "ipython",
    "version": 3
   },
   "file_extension": ".py",
   "mimetype": "text/x-python",
   "name": "python",
   "nbconvert_exporter": "python",
   "pygments_lexer": "ipython3",
   "version": "3.10.5"
  }
 },
 "nbformat": 4,
 "nbformat_minor": 2
}
