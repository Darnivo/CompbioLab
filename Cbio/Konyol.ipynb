{
 "cells": [
  {
   "cell_type": "code",
   "execution_count": 4,
   "metadata": {},
   "outputs": [],
   "source": [
    "from Bio.Seq import Seq"
   ]
  },
  {
   "cell_type": "code",
   "execution_count": 5,
   "metadata": {},
   "outputs": [],
   "source": [
    "SeqA = Seq('ATGCATGGTGCGCGA')\n",
    "SeqB = Seq('ATTTGTGCTCCTGGA')"
   ]
  },
  {
   "cell_type": "code",
   "execution_count": 6,
   "metadata": {},
   "outputs": [
    {
     "name": "stdout",
     "output_type": "stream",
     "text": [
      "Counter({'G': 6, 'A': 3, 'T': 3, 'C': 3})\n",
      "dict_keys(['A', 'T', 'G', 'C'])\n",
      "dict_values([3, 3, 6, 3])\n"
     ]
    }
   ],
   "source": [
    "from collections import Counter\n",
    "freqA = Counter(SeqA)\n",
    "print(freqA)\n",
    "\n",
    "freqKeyA = freqA.keys()\n",
    "freqValA = freqA.values()\n",
    "print(freqKeyA)\n",
    "print(freqValA)"
   ]
  },
  {
   "cell_type": "code",
   "execution_count": 7,
   "metadata": {},
   "outputs": [
    {
     "data": {
      "image/png": "[encoded data removed]",
      "text/plain": [
       "<Figure size 640x480 with 1 Axes>"
      ]
     },
     "metadata": {},
     "output_type": "display_data"
    }
   ],
   "source": [
    "import matplotlib.pyplot as plt\n",
    "plt.bar(freqKeyA,freqValA)\n",
    "plt.title(\"A\")\n",
    "plt.show()"
   ]
  },
  {
   "cell_type": "code",
   "execution_count": 9,
   "metadata": {},
   "outputs": [
    {
     "name": "stdout",
     "output_type": "stream",
     "text": [
      "Counter({'T': 6, 'G': 4, 'C': 3, 'A': 2})\n",
      "dict_keys(['A', 'T', 'G', 'C'])\n",
      "dict_values([2, 6, 4, 3])\n"
     ]
    },
    {
     "data": {
      "image/png": "[encoded data removed]",
      "text/plain": [
       "<Figure size 640x480 with 1 Axes>"
      ]
     },
     "metadata": {},
     "output_type": "display_data"
    }
   ],
   "source": [
    "freqB = Counter(SeqB)\n",
    "print(freqB)\n",
    "\n",
    "freqKeyB = freqB.keys()\n",
    "freqValB = freqB.values()\n",
    "print(freqKeyB)\n",
    "print(freqValB)\n",
    "\n",
    "plt.bar(freqKeyB,freqValB)\n",
    "plt.title(\"B\")\n",
    "plt.show()"
   ]
  },
  {
   "cell_type": "code",
   "execution_count": 1,
   "metadata": {},
   "outputs": [
    {
     "ename": "ModuleNotFoundError",
     "evalue": "No module named 'Bio'",
     "output_type": "error",
     "traceback": [
      "\u001b[1;31m---------------------------------------------------------------------------\u001b[0m",
      "\u001b[1;31mModuleNotFoundError\u001b[0m                       Traceback (most recent call last)",
      "Cell \u001b[1;32mIn[1], line 1\u001b[0m\n\u001b[1;32m----> 1\u001b[0m \u001b[38;5;28;01mfrom\u001b[39;00m \u001b[38;5;21;01mBio\u001b[39;00m\u001b[38;5;21;01m.\u001b[39;00m\u001b[38;5;21;01mSeqUtils\u001b[39;00m \u001b[38;5;28;01mimport\u001b[39;00m GC123\n\u001b[0;32m      3\u001b[0m \u001b[38;5;28mprint\u001b[39m(\u001b[38;5;124m\"\u001b[39m\u001b[38;5;124mSeqA =\u001b[39m\u001b[38;5;124m\"\u001b[39m, GC(SeqA))\n\u001b[0;32m      4\u001b[0m \u001b[38;5;28mprint\u001b[39m(\u001b[38;5;124m\"\u001b[39m\u001b[38;5;124mSeqB =\u001b[39m\u001b[38;5;124m\"\u001b[39m, GC(SeqB))\n",
      "\u001b[1;31mModuleNotFoundError\u001b[0m: No module named 'Bio'"
     ]
    }
   ],
   "source": [
    "from Bio.SeqUtils import GC\n",
    "\n",
    "print(\"SeqA =\", GC(SeqA))\n",
    "print(\"SeqB =\", GC(SeqB))"
   ]
  },
  {
   "cell_type": "code",
   "execution_count": null,
   "metadata": {},
   "outputs": [
    {
     "name": "stdout",
     "output_type": "stream",
     "text": [
      "sA = (wallace, GC, NN)\n",
      "48.00\n",
      "44.25\n",
      "51.02\n",
      "\n",
      "sB = (wallace, GC, NN)\n",
      "44.00\n",
      "38.79\n",
      "42.06\n"
     ]
    }
   ],
   "source": [
    "from Bio.SeqUtils import MeltingTemp as mt\n",
    "\n",
    "print(\"sA = (wallace, GC, NN)\")\n",
    "print('%0.2f' % mt.Tm_Wallace(SeqA))\n",
    "print('%0.2f' % mt.Tm_GC(SeqA))\n",
    "print('%0.2f' % mt.Tm_NN(SeqA))\n",
    "\n",
    "print(\"\\nsB = (wallace, GC, NN)\")\n",
    "print('%0.2f' % mt.Tm_Wallace(SeqB))\n",
    "print('%0.2f' % mt.Tm_GC(SeqB))\n",
    "print('%0.2f' % mt.Tm_NN(SeqB))"
   ]
  },
  {
   "cell_type": "code",
   "execution_count": null,
   "metadata": {},
   "outputs": [
    {
     "name": "stdout",
     "output_type": "stream",
     "text": [
      "sA = 4713.00\n",
      "sB = 4653.96\n"
     ]
    }
   ],
   "source": [
    "from Bio.SeqUtils import molecular_weight as mw\n",
    "\n",
    "print(\"sA =\",'%0.2f' % mw(SeqA))\n",
    "print(\"sB =\",'%0.2f' % mw(SeqB))"
   ]
  }
 ],
 "metadata": {
  "kernelspec": {
   "display_name": "computational_biology",
   "language": "python",
   "name": "python3"
  },
  "language_info": {
   "codemirror_mode": {
    "name": "ipython",
    "version": 3
   },
   "file_extension": ".py",
   "mimetype": "text/x-python",
   "name": "python",
   "nbconvert_exporter": "python",
   "pygments_lexer": "ipython3",
   "version": "3.12.0"
  },
  "orig_nbformat": 4
 },
 "nbformat": 4,
 "nbformat_minor": 2
}
