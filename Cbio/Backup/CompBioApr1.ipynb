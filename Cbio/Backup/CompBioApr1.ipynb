{
 "cells": [
  {
   "cell_type": "code",
   "execution_count": 9,
   "metadata": {},
   "outputs": [],
   "source": [
    "from Bio.Seq import Seq\n"
   ]
  },
  {
   "cell_type": "code",
   "execution_count": 11,
   "metadata": {},
   "outputs": [],
   "source": [
    "dnaA = Seq(\"CGATCGAT\")\n",
    "dnaB = Seq(\"ACGTGTCA\")"
   ]
  },
  {
   "cell_type": "code",
   "execution_count": 13,
   "metadata": {},
   "outputs": [],
   "source": [
    "#Global Alignment\n",
    "from Bio import pairwise2\n",
    "\n",
    "alignments =  pairwise2.align.globalxx(dnaA,dnaB)"
   ]
  },
  {
   "cell_type": "code",
   "execution_count": 14,
   "metadata": {},
   "outputs": [
    {
     "name": "stdout",
     "output_type": "stream",
     "text": [
      "Alignment(seqA='-CGATCGAT--', seqB='ACG-T-G-TCA', score=5.0, start=0, end=11)\n",
      "Alignment(seqA='-CGATCG--AT', seqB='ACG-T-GTCA-', score=5.0, start=0, end=11)\n",
      "Alignment(seqA='-CGAT--CGAT', seqB='ACG-TGTC-A-', score=5.0, start=0, end=11)\n",
      "Alignment(seqA='-CGA--TCGAT', seqB='ACG-TGTC-A-', score=5.0, start=0, end=11)\n",
      "Alignment(seqA='-CGA-TCGAT', seqB='ACGTGTC-A-', score=5.0, start=0, end=10)\n",
      "Alignment(seqA='-CG-ATCGAT', seqB='ACGTGTC-A-', score=5.0, start=0, end=10)\n",
      "Alignment(seqA='-C--GATCGAT', seqB='ACGTG-TC-A-', score=5.0, start=0, end=11)\n"
     ]
    }
   ],
   "source": [
    "for alignment in alignments:\n",
    "    print(alignment)"
   ]
  },
  {
   "cell_type": "code",
   "execution_count": 16,
   "metadata": {},
   "outputs": [
    {
     "name": "stdout",
     "output_type": "stream",
     "text": [
      "-CGATCGAT--\n",
      " || | | |  \n",
      "ACG-T-G-TCA\n",
      "  Score=5\n",
      "\n",
      "-CGATCG--AT\n",
      " || | |  | \n",
      "ACG-T-GTCA-\n",
      "  Score=5\n",
      "\n",
      "-CGAT--CGAT\n",
      " || |  | | \n",
      "ACG-TGTC-A-\n",
      "  Score=5\n",
      "\n",
      "-CGA--TCGAT\n",
      " ||   || | \n",
      "ACG-TGTC-A-\n",
      "  Score=5\n",
      "\n",
      "-CGA-TCGAT\n",
      " ||. || | \n",
      "ACGTGTC-A-\n",
      "  Score=5\n",
      "\n",
      "-CG-ATCGAT\n",
      " || .|| | \n",
      "ACGTGTC-A-\n",
      "  Score=5\n",
      "\n",
      "-C--GATCGAT\n",
      " |  | || | \n",
      "ACGTG-TC-A-\n",
      "  Score=5\n",
      "\n"
     ]
    }
   ],
   "source": [
    "from Bio.pairwise2 import format_alignment\n",
    "\n",
    "for alignment in alignments:\n",
    "    print(format_alignment(*alignment))"
   ]
  },
  {
   "attachments": {},
   "cell_type": "markdown",
   "metadata": {},
   "source": [
    "Postfix / Ending\n",
    "\n",
    "xx > default\n",
    "mx<-- Customize match & mismatch value\n",
    "ms<-- Customize match,mismatch, gap start, gap extend\n",
    "\n",
    "Local\n",
    "match> +2, mismatch> -1, gap start> -0.6, gap extend -0.2"
   ]
  },
  {
   "cell_type": "code",
   "execution_count": 18,
   "metadata": {},
   "outputs": [],
   "source": [
    "alignments = pairwise2.align.localms(dnaA,dnaB,2,-1,-0.6,-0.2)"
   ]
  },
  {
   "cell_type": "code",
   "execution_count": 19,
   "metadata": {},
   "outputs": [
    {
     "name": "stdout",
     "output_type": "stream",
     "text": [
      "1 CGATCGAT\n",
      "  || | | |\n",
      "2 CG-T-G-T\n",
      "  Score=8.2\n",
      "\n"
     ]
    }
   ],
   "source": [
    "for alignment in alignments:\n",
    "    print(format_alignment(*alignment))"
   ]
  },
  {
   "attachments": {},
   "cell_type": "markdown",
   "metadata": {},
   "source": [
    "^ 2 points or each correct, minus incorrect x 0.6 > 5x2 - 0.6x3 = 8.2"
   ]
  },
  {
   "attachments": {},
   "cell_type": "markdown",
   "metadata": {},
   "source": [
    "# Hamming dist"
   ]
  },
  {
   "cell_type": "code",
   "execution_count": 23,
   "metadata": {},
   "outputs": [
    {
     "name": "stdout",
     "output_type": "stream",
     "text": [
      "[('ayam', 'domba'), ('bebek', 'elang')]\n"
     ]
    }
   ],
   "source": [
    "a = ['ayam','bebek','cacing']\n",
    "b = ['domba','elang']\n",
    "\n",
    "zipped = zip(a,b)\n",
    "list_zipped = list(zipped)\n",
    "print(list_zipped)"
   ]
  },
  {
   "cell_type": "code",
   "execution_count": 32,
   "metadata": {},
   "outputs": [],
   "source": [
    "def hamming(dnaA,dnaB):\n",
    "    h = [] #store mismatch\n",
    "    for x,y in zip(dnaA,dnaB):\n",
    "      if (x!=y):\n",
    "          h.append((x,y))\n",
    "    return len(h)"
   ]
  },
  {
   "cell_type": "code",
   "execution_count": 30,
   "metadata": {},
   "outputs": [],
   "source": [
    "# def hamming(dnaA,dnaB):\n",
    "#     h = 0 #store mismatch\n",
    "#     for x,y in zip(dnaA,dnaB):\n",
    "#       if (x!=y):\n",
    "#           h+=1\n",
    "#     return h"
   ]
  },
  {
   "cell_type": "code",
   "execution_count": 31,
   "metadata": {},
   "outputs": [
    {
     "name": "stdout",
     "output_type": "stream",
     "text": [
      "7\n"
     ]
    }
   ],
   "source": [
    "print(hamming(dnaA,dnaB))"
   ]
  },
  {
   "attachments": {},
   "cell_type": "markdown",
   "metadata": {},
   "source": [
    "# Levenshtein dist"
   ]
  },
  {
   "cell_type": "code",
   "execution_count": 33,
   "metadata": {},
   "outputs": [
    {
     "name": "stdout",
     "output_type": "stream",
     "text": [
      "Defaulting to user installation because normal site-packages is not writeable\n",
      "Requirement already satisfied: python-levenshtein in c:\\programdata\\anaconda3\\envs\\computational_biology\\lib\\site-packages (0.20.9)\n",
      "Requirement already satisfied: Levenshtein==0.20.9 in c:\\programdata\\anaconda3\\envs\\computational_biology\\lib\\site-packages (from python-levenshtein) (0.20.9)\n",
      "Requirement already satisfied: rapidfuzz<3.0.0,>=2.3.0 in c:\\programdata\\anaconda3\\envs\\computational_biology\\lib\\site-packages (from Levenshtein==0.20.9->python-levenshtein) (2.15.1)\n",
      "Note: you may need to restart the kernel to use updated packages.\n"
     ]
    },
    {
     "name": "stderr",
     "output_type": "stream",
     "text": [
      "WARNING: There was an error checking the latest version of pip.\n"
     ]
    }
   ],
   "source": [
    "%pip install python-levenshtein"
   ]
  },
  {
   "cell_type": "code",
   "execution_count": 35,
   "metadata": {},
   "outputs": [
    {
     "name": "stdout",
     "output_type": "stream",
     "text": [
      "5\n"
     ]
    }
   ],
   "source": [
    "from Levenshtein import distance\n",
    "\n",
    "print(distance(dnaA,dnaB))"
   ]
  },
  {
   "cell_type": "code",
   "execution_count": 50,
   "metadata": {},
   "outputs": [],
   "source": [
    "def dot_plot(dnaA,dnaB):\n",
    "    print(\" |\"+dnaA)\n",
    "    print(\"-\"*(len(dnaA)+3))\n",
    "    for b in dnaB:\n",
    "        print(b+\"|\", end=\"\")\n",
    "        for a in dnaA:\n",
    "            print(\" \" if a!=b else \"X\",end=\"\")\n",
    "        print(\"\")"
   ]
  },
  {
   "cell_type": "code",
   "execution_count": 51,
   "metadata": {},
   "outputs": [
    {
     "name": "stdout",
     "output_type": "stream",
     "text": [
      " |CGATCGAT\n",
      "-----------\n",
      "A|  X   X \n",
      "C|X   X   \n",
      "G| X   X  \n",
      "T|   X   X\n",
      "G| X   X  \n",
      "T|   X   X\n",
      "C|X   X   \n",
      "A|  X   X \n"
     ]
    }
   ],
   "source": [
    "dot_plot(dnaA,dnaB)"
   ]
  },
  {
   "cell_type": "code",
   "execution_count": null,
   "metadata": {},
   "outputs": [],
   "source": []
  },
  {
   "attachments": {},
   "cell_type": "markdown",
   "metadata": {},
   "source": [
    "$$ sin(x) \\times log(b)$$ "
   ]
  },
  {
   "attachments": {},
   "cell_type": "markdown",
   "metadata": {},
   "source": [
    "$$ ohio = \\dfrac{gyatt}{rizz}"
   ]
  }
 ],
 "metadata": {
  "kernelspec": {
   "display_name": "computational_biology",
   "language": "python",
   "name": "python3"
  },
  "language_info": {
   "codemirror_mode": {
    "name": "ipython",
    "version": 3
   },
   "file_extension": ".py",
   "mimetype": "text/x-python",
   "name": "python",
   "nbconvert_exporter": "python",
   "pygments_lexer": "ipython3",
   "version": "3.7.6"
  },
  "orig_nbformat": 4
 },
 "nbformat": 4,
 "nbformat_minor": 2
}
