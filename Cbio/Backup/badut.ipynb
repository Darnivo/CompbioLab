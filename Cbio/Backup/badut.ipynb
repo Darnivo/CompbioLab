{
 "cells": [
  {
   "cell_type": "code",
   "execution_count": 14,
   "metadata": {},
   "outputs": [],
   "source": [
    "from Bio.Seq import Seq"
   ]
  },
  {
   "cell_type": "code",
   "execution_count": 15,
   "metadata": {},
   "outputs": [],
   "source": [
    "SeqA = \"AGCTTGCAGCGTCCGTTAGCTCGAGTCCAGGACGTTAGTCCTGCAGTC\"\n",
    "SeqB = \"CAGTAAGTTGCCGTTAGCGCGTAGTGCCAGTAAGCGGCTCGTTAGTGG\""
   ]
  },
  {
   "attachments": {},
   "cell_type": "markdown",
   "metadata": {},
   "source": [
    "•\tFind the length of both sequences."
   ]
  },
  {
   "cell_type": "code",
   "execution_count": 17,
   "metadata": {},
   "outputs": [
    {
     "name": "stdout",
     "output_type": "stream",
     "text": [
      "48\n",
      "48\n"
     ]
    }
   ],
   "source": [
    "print(len(SeqA))\n",
    "print(len(SeqB))"
   ]
  },
  {
   "attachments": {},
   "cell_type": "markdown",
   "metadata": {},
   "source": [
    "•\tDetermine the number of times the codon (CGC) appears in both sequences."
   ]
  },
  {
   "cell_type": "code",
   "execution_count": 18,
   "metadata": {},
   "outputs": [
    {
     "data": {
      "text/plain": [
       "0"
      ]
     },
     "execution_count": 18,
     "metadata": {},
     "output_type": "execute_result"
    }
   ],
   "source": [
    "SeqA.count(\"CGC\")"
   ]
  },
  {
   "cell_type": "code",
   "execution_count": 19,
   "metadata": {},
   "outputs": [
    {
     "data": {
      "text/plain": [
       "1"
      ]
     },
     "execution_count": 19,
     "metadata": {},
     "output_type": "execute_result"
    }
   ],
   "source": [
    "SeqB.count(\"CGC\")"
   ]
  },
  {
   "attachments": {},
   "cell_type": "markdown",
   "metadata": {},
   "source": [
    "•\tLocate the first occurrence index position of the sub-sequence (CAGTC) in both sequences."
   ]
  },
  {
   "cell_type": "code",
   "execution_count": 21,
   "metadata": {},
   "outputs": [
    {
     "name": "stdout",
     "output_type": "stream",
     "text": [
      "43\n",
      "-1\n"
     ]
    }
   ],
   "source": [
    "print(SeqA.find(\"CAGTC\"))\n",
    "print(SeqB.find(\"CAGTC\"))"
   ]
  },
  {
   "cell_type": "code",
   "execution_count": null,
   "metadata": {},
   "outputs": [],
   "source": [
    "# •\tCombine the first 15 nucleotides from sequence A and the last 10 nucleotides from \n",
    "# sequence B to create a new DNA sequence called sequence C"
   ]
  },
  {
   "cell_type": "code",
   "execution_count": 24,
   "metadata": {},
   "outputs": [
    {
     "name": "stdout",
     "output_type": "stream",
     "text": [
      "AGCTTGCAGCGTCCGTCGTTAGTGG\n"
     ]
    }
   ],
   "source": [
    "SeqC = SeqA[:15]+SeqB[-10:]\n",
    "print(SeqC)"
   ]
  },
  {
   "cell_type": "code",
   "execution_count": 31,
   "metadata": {},
   "outputs": [
    {
     "name": "stdout",
     "output_type": "stream",
     "text": [
      "GGTGATTGCTGCCTGCGACGTTCGA\n"
     ]
    }
   ],
   "source": [
    "SeqCr = SeqC[len(SeqC)::-1]\n",
    "SeqC = SeqCr\n",
    "print(SeqC)"
   ]
  },
  {
   "cell_type": "code",
   "execution_count": 36,
   "metadata": {},
   "outputs": [
    {
     "name": "stdout",
     "output_type": "stream",
     "text": [
      "A 0.0\n",
      "G 0.0\n",
      "C 0.0\n",
      "T 0.0\n",
      "T 0.0\n",
      "G 0.0\n",
      "C 0.0\n",
      "A 0.0\n",
      "G 0.0\n",
      "C 0.0\n",
      "G 0.0\n",
      "T 0.0\n",
      "C 0.0\n",
      "C 0.0\n",
      "G 0.0\n",
      "T 0.0\n",
      "T 0.0\n",
      "A 0.0\n",
      "G 0.0\n",
      "C 0.0\n",
      "T 0.0\n",
      "C 0.0\n",
      "G 0.0\n",
      "A 0.0\n",
      "G 0.0\n",
      "T 0.0\n",
      "C 0.0\n",
      "C 0.0\n",
      "A 0.0\n",
      "G 0.0\n",
      "G 0.0\n",
      "A 0.0\n",
      "C 0.0\n",
      "G 0.0\n",
      "T 0.0\n",
      "T 0.0\n",
      "A 0.0\n",
      "G 0.0\n",
      "T 0.0\n",
      "C 0.0\n",
      "C 0.0\n",
      "T 0.0\n",
      "G 0.0\n",
      "C 0.0\n",
      "A 0.0\n",
      "G 0.0\n",
      "T 0.0\n",
      "C 0.0\n",
      "\n"
     ]
    }
   ],
   "source": [
    "alig"
   ]
  }
 ],
 "metadata": {
  "kernelspec": {
   "display_name": "computational_biology",
   "language": "python",
   "name": "python3"
  },
  "language_info": {
   "codemirror_mode": {
    "name": "ipython",
    "version": 3
   },
   "file_extension": ".py",
   "mimetype": "text/x-python",
   "name": "python",
   "nbconvert_exporter": "python",
   "pygments_lexer": "ipython3",
   "version": "3.7.6"
  },
  "orig_nbformat": 4
 },
 "nbformat": 4,
 "nbformat_minor": 2
}
