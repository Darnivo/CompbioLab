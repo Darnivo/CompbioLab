{
 "cells": [
  {
   "cell_type": "code",
   "execution_count": 618,
   "metadata": {},
   "outputs": [],
   "source": [
    "import Bio"
   ]
  },
  {
   "cell_type": "code",
   "execution_count": 619,
   "metadata": {},
   "outputs": [],
   "source": [
    "from Bio.Seq import Seq\n",
    "from Bio import SeqIO"
   ]
  },
  {
   "cell_type": "code",
   "execution_count": 620,
   "metadata": {},
   "outputs": [],
   "source": [
    "# GCAT\n",
    "\n",
    "letters = \"BDEFHIJKLMNOPQRSUVWXYZ\"\n",
    "\n",
    "def clean(seq):\n",
    "    for letter in letters:\n",
    "        seq = seq.replace(letter, '')\n",
    "        return seq"
   ]
  },
  {
   "cell_type": "code",
   "execution_count": 621,
   "metadata": {},
   "outputs": [],
   "source": [
    "seqX = SeqIO.read(\"x.fasta\", \"fasta\")"
   ]
  },
  {
   "cell_type": "code",
   "execution_count": 622,
   "metadata": {},
   "outputs": [],
   "source": [
    "seqY = SeqIO.parse('y.fasta', 'fasta')"
   ]
  },
  {
   "cell_type": "code",
   "execution_count": 623,
   "metadata": {},
   "outputs": [
    {
     "name": "stdout",
     "output_type": "stream",
     "text": [
      "1883\n",
      "1050\n"
     ]
    }
   ],
   "source": [
    "# length before clean\n",
    "\n",
    "print(len(seqX.seq))\n",
    "\n",
    "# print(len(seqY.seq))\n",
    "for rec in seqY:\n",
    "    print(len(rec.seq))"
   ]
  },
  {
   "cell_type": "markdown",
   "metadata": {},
   "source": [
    "Difference between using parse and read"
   ]
  },
  {
   "cell_type": "code",
   "execution_count": 624,
   "metadata": {},
   "outputs": [
    {
     "name": "stdout",
     "output_type": "stream",
     "text": [
      "ID: XM_006779407.2\n",
      "Name: XM_006779407.2\n",
      "Description: XM_006779407.2 PREDICTED: Myotis davidii seryl-tRNA synthetase (SARS), mRNA\n",
      "Number of features: 0\n",
      "Seq('ATGGTGTTGGATCTGGACTTGTTTCGGACGGATAAAGGAGGAGACCCGGACCGC...TCA')\n",
      "==========================================\n",
      "XM_006779407.2\n",
      "ATGGTGTTGGATCTGGACTTGTTTCGGACGGATAAAGGAGGAGACCCGGACCGCATCCGAGAGACGCAAAAGAACCGCTTCAAGGACCCGGGACTCGTGGATCGGCTGGTGAAGGCGGACGGCGAGTGGCGAAAATGCAGATTTCAGACCGACAACTTGAACAAGCTGAAGAACCTATGCAGCAAGACAATTGGAGAGAAAATGAAGAAAAAAGAGCCAGTGGGAAATGATGAGTCCATTCCGGAGAACTTGTTAAATCTCGATGACCTCACTTCAGACACTTTAGCTAACCTGAAAGTGTCACAGATCAAAAAACTCCGACTCCTCATCGACGAAGCCATCCTGAAGTGTGACGCCCAGCGGATAAAGCTGCAGGAATAGCGGTTTGAGAACCTCCGCGAGNNNNNNNNNNNNNNNNNNCTGCATCCCTCGGTGCCCATCAGTAACGATGAGGATGCGGACAACAAAGTCGAGAGGATCTGGGGTGACTGCACCGTCAAGAAGAAGTACTCGCACGTGGACCTGGTGGTGATGGTCGATGGCTTTGAAGGCGAAAAAGGGGTCGTGGTGGCTGGCAGTCGAGGGTACTTCCTGAAGGGGCCCCTGGTGTTCCTGGAACAGGCGCTCATCCAGTACGCCCTTCGCACCTTGGGAAGTCGGGGCTACATTCCCATTTACACCCCGTTTTTCATGAGGAAGGAGGTCATGCAGGAGGTGGCACAGCTCAGCCAGTTTGATGAAGAGCTTTACAAGGTGATTGGCAAAGGCAGTGAAAAGTCTGACGACAACTCCTACGATGAGAAATACCTGATTGCCACCTCCGAGCAGCCCATCGCTGCTCTCCACCGAGATGAGTGGCTACGGCCAGAGGATTTGCCCATCAAGTATGCTGGCCTGTCCACCTGCTTTCGCCAGGAGGTGGGCTCCCACGGCCGGGACACCCGCGGCATCTTCCGAGTCCATCAGTTTGAGAAGATCGAGCAGTTTGTCTACGCGTCACCACATGACAACAAGTCGTGGGAGATGTTTGAAGAGATGATCTCCACCGCGGAGGAGTTCTACCAGACCCTGGGCATCCCATACCACATCGTGAATATTGTCTCAGGTTCTTTGAATCACGCTGCCAGTAAGAAGCTTGACCTGGAGGCCTGGTTTCCGGGCTCGGGAGCCTTCCGGGAGCTGGTCTCCTGTTCTAACTGCACAGACTACCAGGCTCGCCGCCTCCGAATCCGATACGGGCAAACCAAGAAGATGATGGACAAGGTGGAGTTTGTCCACATGCTCAACGCCACCATGTGTGCCACTACCCGCACCATCTGCGCCATCCTGGAGAACTACCAGACGGAGAAGGGCATCGTCGTGCCCGAGAAGTTGAAGGAGTTCATGCCGCCAGGTCTCCAAGAACTGATTCCCTTTGTGAAGCCTGCGCCCATTGACCAGGAGCCATCGAAGAAGCAGAAGAAGCAGCAGGAGGGCAGCAAAAACAAAGGGGCAGAGAGCGATGTCCCCCTGGAGAGCCGGCTGCAGAGCATGGTGCTCGCCGATTCCTGAACATTCCTTCTCCCCAGTTCGGTCAGCTGGGATCCCAGAGCCTGCCCACAGGCGGGGACGCCAGACATGCCCTCTCATCGCCTGCACCGACTGACTGCATTGCTGAAACGGGAGCCCTCTGCCATGCACACCGCAGTGTTCCTGTCTGCTCGCATGGGCCTGGGACGCAACCACTGAGGACTGAGGAAGTCATGCCATGAGCCTCCCCAGCAGAGGTGAGGACTCGCCCGCAGTCCTCCGCCTGGGCCTCAAACCCTGGCTCACAGCTCTCCCTGGAACCACACTCACTTGTGCTTTTCCTCCTAAATAAAGCTGTTCCATGTAGCAAGTCA\n"
     ]
    }
   ],
   "source": [
    "# read will make the sequence file becomes an object which attributes can be acces using .attrib\n",
    "\n",
    "print(seqX)\n",
    "print(\"==========================================\")\n",
    "print(seqX.name)\n",
    "print(seqX.seq)"
   ]
  },
  {
   "cell_type": "code",
   "execution_count": 625,
   "metadata": {},
   "outputs": [
    {
     "name": "stdout",
     "output_type": "stream",
     "text": [
      "<Bio.SeqIO.FastaIO.FastaIterator object at 0x000001C800107DA0>\n"
     ]
    }
   ],
   "source": [
    "# parse will make the sequence file into an array and to print it you need a loop\n",
    "\n",
    "print(seqY)"
   ]
  },
  {
   "cell_type": "code",
   "execution_count": 626,
   "metadata": {},
   "outputs": [
    {
     "name": "stdout",
     "output_type": "stream",
     "text": [
      "ID: OV986001.1\n",
      "Name: OV986001.1\n",
      "Description: OV986001.1 Pseudomonas fluorescens SBW25 genome assembly, chromosome: 1\n",
      "Number of features: 0\n",
      "Seq('GTGTCAGTGGAACTTTGGCAGCAGTGCGTGGAGCTTTTGCGCGATGAGCTGCCT...GAC')\n"
     ]
    }
   ],
   "source": [
    "# apparently either python or biopython is stupid so in order to print parsed sequence you need to declare it INSIDE the for loop or INSIDE the same column\n",
    "\n",
    "\n",
    "# seqY = SeqIO.parse('y.fasta', 'fasta') <- if you use this change the part after in inside for loop using the variable\n",
    "for i in SeqIO.parse('y.fasta', 'fasta'):\n",
    "    # print(i.seq)\n",
    "    i.seq = Seq(clean(str(i.seq)))\n",
    "    print(i)"
   ]
  },
  {
   "cell_type": "markdown",
   "metadata": {},
   "source": [
    "Some little preprocessing"
   ]
  },
  {
   "cell_type": "code",
   "execution_count": 627,
   "metadata": {},
   "outputs": [],
   "source": [
    "seqX.seq = Seq(clean(seqX.seq))"
   ]
  },
  {
   "cell_type": "markdown",
   "metadata": {},
   "source": [
    "# Exercise"
   ]
  },
  {
   "cell_type": "markdown",
   "metadata": {},
   "source": [
    "REMEMBER:\n",
    "\n",
    "- seqX is using read\n",
    "- seqY is using parse"
   ]
  },
  {
   "cell_type": "markdown",
   "metadata": {},
   "source": [
    "## Total length"
   ]
  },
  {
   "cell_type": "code",
   "execution_count": 628,
   "metadata": {},
   "outputs": [
    {
     "name": "stdout",
     "output_type": "stream",
     "text": [
      "1883\n"
     ]
    }
   ],
   "source": [
    "# seqX\n",
    "\n",
    "print(len(seqX.seq))"
   ]
  },
  {
   "cell_type": "code",
   "execution_count": 629,
   "metadata": {},
   "outputs": [
    {
     "name": "stdout",
     "output_type": "stream",
     "text": [
      "1050\n"
     ]
    }
   ],
   "source": [
    "# seqY\n",
    "\n",
    "for i in SeqIO.parse('y.fasta', 'fasta'):\n",
    "    i.seq = Seq(clean(str(i.seq)))\n",
    "    print(len(i.seq))"
   ]
  },
  {
   "cell_type": "markdown",
   "metadata": {},
   "source": [
    "## Display first appearance of a codon (CGC)"
   ]
  },
  {
   "cell_type": "code",
   "execution_count": 630,
   "metadata": {},
   "outputs": [
    {
     "data": {
      "text/plain": [
       "51"
      ]
     },
     "execution_count": 630,
     "metadata": {},
     "output_type": "execute_result"
    }
   ],
   "source": [
    "# seqX\n",
    "\n",
    "seqX.seq.find(\"CGC\")"
   ]
  },
  {
   "cell_type": "code",
   "execution_count": 631,
   "metadata": {},
   "outputs": [
    {
     "name": "stdout",
     "output_type": "stream",
     "text": [
      "39\n"
     ]
    }
   ],
   "source": [
    "# seqY\n",
    "\n",
    "for i in SeqIO.parse('y.fasta', 'fasta'):\n",
    "    i.seq = Seq(clean(str(i.seq)))\n",
    "    print(i.seq.find(\"CGC\"))"
   ]
  },
  {
   "cell_type": "markdown",
   "metadata": {},
   "source": [
    "## Create new sequence\n",
    "\n",
    "- first 10 last 5 for x\n",
    "- first 20 last 3 from y\n",
    "- combine into seqZ"
   ]
  },
  {
   "cell_type": "markdown",
   "metadata": {},
   "source": [
    "to slice:\n",
    "\n",
    "arr[:n] or arr[n:]\n",
    "\n",
    "colon (:) placement represent from where you want to take the slice. Minus (-) means you want to exclude it\n",
    "\n",
    "- [:n] take first n index\n",
    "- [:-n] take first len - n index\n",
    "- [n:] take last element starting from index n\n",
    "- [-n:] take last element starting from len - n\n",
    "\n",
    "this is stupid wtf"
   ]
  },
  {
   "cell_type": "code",
   "execution_count": 632,
   "metadata": {},
   "outputs": [
    {
     "name": "stdout",
     "output_type": "stream",
     "text": [
      "ATGGTGTTGGAGTCA\n"
     ]
    },
    {
     "data": {
      "text/plain": [
       "15"
      ]
     },
     "execution_count": 632,
     "metadata": {},
     "output_type": "execute_result"
    }
   ],
   "source": [
    "# seqX\n",
    "\n",
    "seqXsplit = Seq(seqX.seq[:10] + seqX.seq[-5:])\n",
    "print(seqXsplit)\n",
    "len(seqXsplit)"
   ]
  },
  {
   "cell_type": "code",
   "execution_count": 633,
   "metadata": {},
   "outputs": [
    {
     "name": "stdout",
     "output_type": "stream",
     "text": [
      "GTGTCAGTGGAACTTTGGCAGAC\n"
     ]
    },
    {
     "data": {
      "text/plain": [
       "23"
      ]
     },
     "execution_count": 633,
     "metadata": {},
     "output_type": "execute_result"
    }
   ],
   "source": [
    "split = \"\"\n",
    "\n",
    "# I find it easier to track if the sequence are copied into a new var as a string\n",
    "for i in SeqIO.parse('y.fasta', 'fasta'):\n",
    "    i.seq = Seq(clean(str(i.seq)))\n",
    "    split = i.seq\n",
    "    \n",
    "seqYsplit = Seq(split[:20] + split[-3:])\n",
    "# len should be 23\n",
    "print(seqYsplit)\n",
    "len(seqYsplit)"
   ]
  },
  {
   "cell_type": "code",
   "execution_count": 634,
   "metadata": {},
   "outputs": [
    {
     "data": {
      "text/plain": [
       "Seq('CAGACGGTTTCAAGGTGACTGTGACTGAGGTTGTGGTA')"
      ]
     },
     "execution_count": 634,
     "metadata": {},
     "output_type": "execute_result"
    }
   ],
   "source": [
    "seqZ = seqXsplit + seqYsplit\n",
    "seqZ = seqZ[::-1] # [::-1] to reverse\n",
    "seqZ"
   ]
  },
  {
   "cell_type": "markdown",
   "metadata": {},
   "source": [
    "## DNA EDA procss"
   ]
  },
  {
   "cell_type": "markdown",
   "metadata": {},
   "source": [
    "### Data plotting sequence Y"
   ]
  },
  {
   "cell_type": "markdown",
   "metadata": {},
   "source": [
    "45 minutes into making this shit, just realized that the sequence used for the rest of this is sequence Z which would be easier but the method is totally same, just remove the loop"
   ]
  },
  {
   "cell_type": "code",
   "execution_count": 635,
   "metadata": {},
   "outputs": [],
   "source": [
    "import matplotlib.pyplot as plt"
   ]
  },
  {
   "cell_type": "code",
   "execution_count": 636,
   "metadata": {},
   "outputs": [
    {
     "name": "stdout",
     "output_type": "stream",
     "text": [
      "AAAAAAAAAAAAAAAAAAAAAAAAAAAAAAAAAAAAAAAAAAAAAAAAAAAAAAAAAAAAAAAAAAAAAAAAAAAAAAAAAAAAAAAAAAAAAAAAAAAAAAAAAAAAAAAAAAAAAAAAAAAAAAAAAAAAAAAAAAAAAAAAAAAAAAAAAAAAAAAAAAAAAAAAAAAAAAAAAAAAAAAAAAAAAAAAAAAAAAAAAAAAAAAAAAAAAAAAAAAAAAAAAAAAAAAAAA\n",
      "CCCCCCCCCCCCCCCCCCCCCCCCCCCCCCCCCCCCCCCCCCCCCCCCCCCCCCCCCCCCCCCCCCCCCCCCCCCCCCCCCCCCCCCCCCCCCCCCCCCCCCCCCCCCCCCCCCCCCCCCCCCCCCCCCCCCCCCCCCCCCCCCCCCCCCCCCCCCCCCCCCCCCCCCCCCCCCCCCCCCCCCCCCCCCCCCCCCCCCCCCCCCCCCCCCCCCCCCCCCCCCCCCCCCCCCCCCCCCCCCCCCCCCCCCCCCCCCCCCCCCCCCCCCCCCCCCCCCCCCCCCCCCCCCCCCCCCCCCCCCCCCCCCCCCCCCCCC\n"
     ]
    }
   ],
   "source": [
    "seqAonly = \"\"\n",
    "seqConly = \"\"\n",
    "\n",
    "# I'm just lazy so this is probably the most brainrot way\n",
    "for i in SeqIO.parse('y.fasta', 'fasta'):\n",
    "    i.seq = Seq(clean(str(i.seq)))\n",
    "    for letter in \"GCT\":\n",
    "        i.seq = i.seq.replace(letter, \"\")\n",
    "    seqAonly = i.seq\n",
    "    \n",
    "        \n",
    "for i in SeqIO.parse('y.fasta', 'fasta'):\n",
    "    i.seq = Seq(clean(str(i.seq)))\n",
    "    for letter in \"GAT\":\n",
    "        i.seq = i.seq.replace(letter, \"\")\n",
    "    seqConly = i.seq\n",
    "        \n",
    "print(seqAonly)\n",
    "print(seqConly)"
   ]
  },
  {
   "cell_type": "code",
   "execution_count": 637,
   "metadata": {},
   "outputs": [
    {
     "data": {
      "image/png": "[encoded data removed]",
      "text/plain": [
       "<Figure size 640x480 with 1 Axes>"
      ]
     },
     "metadata": {},
     "output_type": "display_data"
    }
   ],
   "source": [
    "plt.bar(x=seqAonly, align='center', height= len(seqAonly), width=0.1)\n",
    "plt.bar(x=seqConly, align='center', height= len(seqConly), width=0.1)\n",
    "plt.title(\"Comparison of nucleotid A and C\")\n",
    "plt.legend(\"AC\")\n",
    "plt.show()"
   ]
  },
  {
   "cell_type": "markdown",
   "metadata": {},
   "source": [
    "### percentage of GC and AT"
   ]
  },
  {
   "cell_type": "markdown",
   "metadata": {},
   "source": [
    "to calculate GC percentage there is a module in BioSeqUtils called GC (in latest version it's called gc_fraction or you can use GC123) which will return the percentage of GC in the sequence. To display AT percent just 100 - GC percent\n",
    "\n",
    "- gc_fraction -> returns float; fraction of GC in your entire sequence (gc_float * 100 to find the percentage)\n",
    "- GC123 -> returns tupple consist of (according to index): percentage of GC in entire sequence and percentage of GC in first, second, and third codon"
   ]
  },
  {
   "cell_type": "code",
   "execution_count": 638,
   "metadata": {},
   "outputs": [
    {
     "name": "stdout",
     "output_type": "stream",
     "text": [
      "Percentage of GC: %57.23809523809524\n",
      "Percentage of AT: %42.76190476190476\n"
     ]
    }
   ],
   "source": [
    "from Bio.SeqUtils import GC123, gc_fraction\n",
    "\n",
    "GCpercent = 0\n",
    "\n",
    "# using GC123\n",
    "for i in SeqIO.parse('y.fasta', 'fasta'):\n",
    "    i.seq = Seq(clean(str(i.seq)))\n",
    "    GCpercent = GC123(i.seq)\n",
    "\n",
    "ATpercent = 100.0 - GCpercent[0]\n",
    "\n",
    "# using GC123\n",
    "print(f\"Percentage of GC: %{GCpercent[0]}\" )\n",
    "print(f\"Percentage of AT: %{ATpercent}\" )"
   ]
  },
  {
   "cell_type": "code",
   "execution_count": 639,
   "metadata": {},
   "outputs": [
    {
     "name": "stdout",
     "output_type": "stream",
     "text": [
      "Percentage of GC: %57.23809523809524\n",
      "Percentage of AT: %42.76190476190476\n"
     ]
    }
   ],
   "source": [
    "# using gc_frac\n",
    "\n",
    "GCpercent = 0\n",
    "\n",
    "# using GC123\n",
    "for i in SeqIO.parse('y.fasta', 'fasta'):\n",
    "    i.seq = Seq(clean(str(i.seq)))\n",
    "    GCpercent = gc_fraction(i.seq) * 100\n",
    "\n",
    "ATpercent = 100.0 - GCpercent\n",
    "\n",
    "# using GC123\n",
    "print(f\"Percentage of GC: %{GCpercent}\" )\n",
    "print(f\"Percentage of AT: %{ATpercent}\" )"
   ]
  },
  {
   "cell_type": "markdown",
   "metadata": {},
   "source": [
    "### Melting point"
   ]
  },
  {
   "cell_type": "markdown",
   "metadata": {},
   "source": [
    "another module from Bio.SeqUtils called Meltingtemp\n",
    "\n",
    "This module contains three different methods to calculate the melting temperature of oligonucleotides:\n",
    "\n",
    "- Tm_Wallace: ‘Rule of thumb’\n",
    "\n",
    "- Tm_GC: Empirical formulas based on GC content. Salt and mismatch corrections can be included.\n",
    "\n",
    "- Tm_NN: Calculation based on nearest neighbor thermodynamics. Several tables for DNA/DNA, DNA/RNA and RNA/RNA hybridizations are included. Correction for mismatches, dangling ends, salt concentration and other additives are available."
   ]
  },
  {
   "cell_type": "code",
   "execution_count": 640,
   "metadata": {},
   "outputs": [
    {
     "name": "stdout",
     "output_type": "stream",
     "text": [
      "Wallace method:  3302.0\n",
      "GC method:  82.79909254816839\n",
      "NN method:  86.2369020433818\n"
     ]
    }
   ],
   "source": [
    "from Bio.SeqUtils import MeltingTemp as mt\n",
    "\n",
    "for i in SeqIO.parse('y.fasta', 'fasta'):\n",
    "    i.seq = Seq(clean(str(i.seq)))\n",
    "    print(\"Wallace method: \", mt.Tm_Wallace(i.seq))\n",
    "\n",
    "for i in SeqIO.parse('y.fasta', 'fasta'):\n",
    "    i.seq = Seq(clean(str(i.seq)))\n",
    "    print(\"GC method: \", mt.Tm_GC(i.seq))\n",
    "\n",
    "for i in SeqIO.parse('y.fasta', 'fasta'):\n",
    "    i.seq = Seq(clean(str(i.seq)))\n",
    "    print(\"NN method: \", mt.Tm_NN(i.seq))"
   ]
  },
  {
   "cell_type": "markdown",
   "metadata": {},
   "source": [
    "### Molecular weight"
   ]
  },
  {
   "cell_type": "markdown",
   "metadata": {},
   "source": [
    "Another module from Bio.SeqUtils literaly called molecular_weight"
   ]
  },
  {
   "cell_type": "code",
   "execution_count": 641,
   "metadata": {},
   "outputs": [
    {
     "name": "stdout",
     "output_type": "stream",
     "text": [
      "Seq C molecular weight:  323955.0287\n"
     ]
    }
   ],
   "source": [
    "from Bio.SeqUtils import molecular_weight as mw\n",
    "\n",
    "for i in SeqIO.parse('y.fasta', 'fasta'):\n",
    "    i.seq = Seq(clean(str(i.seq)))\n",
    "    print(\"Seq C molecular weight: \", mw(i.seq))"
   ]
  },
  {
   "cell_type": "markdown",
   "metadata": {},
   "source": [
    "## Protein synthesize"
   ]
  },
  {
   "cell_type": "markdown",
   "metadata": {},
   "source": [
    "from now sequence Z will be used"
   ]
  },
  {
   "cell_type": "markdown",
   "metadata": {},
   "source": [
    "### Transcribe to mRNA"
   ]
  },
  {
   "cell_type": "code",
   "execution_count": 642,
   "metadata": {},
   "outputs": [
    {
     "name": "stdout",
     "output_type": "stream",
     "text": [
      "CAGACGGUUUCAAGGUGACUGUGACUGAGGUUGUGGUA\n"
     ]
    }
   ],
   "source": [
    "mRNA_Z = seqZ.transcribe()\n",
    "print(mRNA_Z)"
   ]
  },
  {
   "cell_type": "markdown",
   "metadata": {},
   "source": [
    "### Translate mRNA"
   ]
  },
  {
   "cell_type": "code",
   "execution_count": 643,
   "metadata": {},
   "outputs": [
    {
     "name": "stdout",
     "output_type": "stream",
     "text": [
      "38\n"
     ]
    },
    {
     "name": "stderr",
     "output_type": "stream",
     "text": [
      "C:\\Users\\Axioo Pongo\\AppData\\Roaming\\Python\\Python312\\site-packages\\Bio\\Seq.py:2880: BiopythonWarning: Partial codon, len(sequence) not a multiple of three. Explicitly trim the sequence or add trailing N before translation. This may become an error in future.\n",
      "  warnings.warn(\n"
     ]
    },
    {
     "data": {
      "text/plain": [
       "Seq('QTVSR*L*LRLW')"
      ]
     },
     "execution_count": 643,
     "metadata": {},
     "output_type": "execute_result"
    }
   ],
   "source": [
    "print(len(mRNA_Z))\n",
    "# apparently the mRNA for Z can't be modded by 3 which means that the translate() function need to trim it so that it could be modded by 3, future errors expected\n",
    "tl_Z = mRNA_Z.translate()\n",
    "tl_Z"
   ]
  },
  {
   "cell_type": "markdown",
   "metadata": {},
   "source": [
    "## Seq allign and simmilarities"
   ]
  },
  {
   "cell_type": "code",
   "execution_count": 644,
   "metadata": {},
   "outputs": [],
   "source": [
    "from Bio import Align\n",
    "from Bio import pairwise2\n",
    "from Bio.pairwise2 import format_alignment"
   ]
  },
  {
   "cell_type": "markdown",
   "metadata": {},
   "source": [
    "### Local alignment pairwise X and Y"
   ]
  },
  {
   "cell_type": "code",
   "execution_count": 645,
   "metadata": {},
   "outputs": [
    {
     "name": "stdout",
     "output_type": "stream",
     "text": [
      "873.0\n"
     ]
    }
   ],
   "source": [
    "temp_seqY = \"\"\n",
    "\n",
    "for i in SeqIO.parse('y.fasta', 'fasta'):\n",
    "    i.seq = Seq(clean(str(i.seq)))\n",
    "    temp_seqY = i.seq\n",
    "\n",
    "aligner = Align.PairwiseAligner()\n",
    "aligner.mode = \"local\"\n",
    "alignment = aligner.align(seqX.seq, temp_seqY)\n",
    "scores = alignment.score\n",
    "print(scores)"
   ]
  },
  {
   "cell_type": "code",
   "execution_count": 646,
   "metadata": {},
   "outputs": [
    {
     "name": "stdout",
     "output_type": "stream",
     "text": [
      "6 GTTGGATC--TGGA-CTTGTTTCGGACGGATAAAGGAGGAGACCCGGACCGCATCCGAGAGACGCAAAAGAACCGCTTCAAGGACCCGGGACTCGTGGATCGGCTGGTGAAGGCGGACGGCGAGTG-GCGAAAATGCAGATTTCA-GACCG-A-CAACTTG-AACAAGC-TGAAGAA-CCTATG-CAGCAAGACAATTGGAG-AGAAAATGAA--GAAAAAAGAGCCAGTGGGAAATGATGAGTCC-ATTCCGGAGAACTTGTTAAATCTCGATGACCTCACTTCAGACA-CTTTAGCTAACCTGAAAGT-GTCACA---GATCAAAAAACTC-CGACTCC---TCAT-CGACGAAGCCAT-CCTGAAGTGTGACGCCCAGCGGATAAAGCTGCAGGAATA-GCGGTTT-GA-GAACCTC-CGCG-A--GNNNNNNNNNNNNNNNNNN-C-T-GCATCCCTCGGTGCC-CATCAG-T-A--ACGATGAGG-ATGCGGACAACAAAGTCGAGAGGATCTGGGGTGACT-GCACCGTCAAGAAGAAGTACTCGCACGTG-GACCTGGTGGTGATGGTCGAT-G-GCT--TTGAAGGCGAAAAAGGGGTCGTGG-TGGCTGGCAGTCGAGGGTACTTCCTGAAGGGGCCCCTG-GTGTTCCTGGAACAGGCGC--TCAT-CCAGTACGC-CCTTCGCACCTTGGGAAGTCGGGGCTACA-TTCCCATTTACACCC-CGTTTTTCATGAG-GAAGGAGGTCATGCAGGAGG-TGGCACAGCTCAGCCAGTTTGA-TGAAGAGCTTTACAAGGT-GATTGGCAAAGGCAGT-GAAA-AGTCTGA-CGACAACTCCTACGATGAGAAATACCTGAT-TGCCAC-CTCCG-AGCA-GCCCATCGC-TGCTC-TCCA-CCGAGATG-AGTG-GCTACGGCCAG---AGGATTTGCCCATCAAGTATGCTGGCCTGTC-CACCT-GCTTT-CG-CCAGGAGGTGGGCTCCCACGGCCGG-GACACCCGCGGCATCTTCCGAGTCCATCA-GTTTGAGAAGATCGAGCAG-TTT-GTCT-AC-GCGTCACCACATGAC-AACA-AGTCGTGGGAGATGTT-TGAAGA-GATGATCTCCA-CCGC--GG-AGGAGTTCTACCAGACCCTGGGCATCCCATACCACATCGTGAATATTGTCTCA-GGTT-CTTTGAATCACGCTGCCAGTAAGAAGCTTGACCTGG--AGGCCTGGTTTCCGGGC-TCGGGAGCCTTCCGGGAGCTG--GT-CTC-CTGTTCTA-ACTGCACAGACTACCAGGCTCGCCGCCTCCGAATCCGATACGGGCAAACC-A--AGAAGATGATGGACAAGGTGGAGTTTGTCCACATGCTCAAC-GCCACCATG-T-GTGCCACTACCC-GCACCATCTGCGCCAT-C-CT--G-GAGAACTACCAGACGGA-G---AAGGGCA--T-C-G-TCG--TGCC--CGA--GAAGTTG-AAGGA-GTT-CATG-CCGC-CAGGTCTCCAAGAACTGATTCCCT-TTG-TGAAGCCTGCGCCCATTGACCAGGAGCCAT-CGAAGAAG--CAGAAGAA---GCAGCAGGAGGGCAGCAAAAACAA-AGGGGCAGAGAGCGATGTCCCCCTGGAGAGCCGGCTGCAGAGCATGGTGCTCGCCGATTCCTGAAC-ATT-CCTTCTC--C-CCAGTTCGGTCAGCTGG-GATCCCAGAGCCTGC-CCA-CAGG-CGGGGA-C--G-CCAGACATGC-CC-TCTCATCGCCTGCACCGACT-GACTGCATTGCTGAAACGGGAGCCCTCTGCC-AT-GCACACCGCAG-TGT---TC-CTGTCTGCTCGCATGGGCCTGGGACGCAACCACTGAGGACTGAGGAAGTCATGCCATGAGCCTCCCCAGCAGAGGTGAGGACTCGCCCGC-AGTCCTCCGCCTGGGCCTCAAACCCTGGCTCACAGCTCTCCCTGGAACCAC-ACTCACTTG-TGCTTTTCCTCCTAAATAAAG-CT-GTT-CCATGTAGC-AA-GTC-A\n",
      "  | | | ||  |||| |   ||| || |            ||   |  |  |  |               |   ||  |   |||     |   | |   |    |  |       | | |||| || ||     |||      |  | ||  | ||| ||  ||| | | ||  | | ||   | |  |   ||   |  |  ||     |    |     | ||||     |  |  | | |  | |   | |||   |||        || ||   |   ||   ||  |    ||   ||   || | ||       | |        || |||||     |||  ||| ||||   | ||       ||| | || || | |   ||| |  ||||  ||    | || |||   | || | |  |                   | | |||  || | ||| | | ||   | |  |  || ||| | ||  | |||   ||    | |  |     |  |  ||||| ||        |   | |  | || | ||       ||      |  | ||   ||   |||           |   | | ||| || |||    |      |  ||   | |||   | |   | ||  ||  | |  |  | ||||||  | || | ||| |         |  |||| |  || |||   | |    ||    || |  | ||| ||    |   |  |   | |  |||| | |  |    || ||||||     ||      |  |  |    || |  |  | || ||   ||   |  ||  ||||| |     || |   |||||  ||||  |||| ||||  ||  | | | |    |||| |   |  | || |   || |   |||  |||      |||   | | | | | | ||    ||    |  ||   |     |||   |   ||   || |  | | |||     |  ||   ||| |  |       ||||| |  ||| |||  |  | || |  | ||  | |||  || | |    |  |   |      | ||     || ||||  || | | |   |  | |  ||   | |   || ||| |  |    | |  |   || |||| |    || | | ||  |  |      |||  |||    |    |||  |   ||| ||  | | |||   || | |   |  ||| |   | |  | ||||| | ||     | | |  |     |  |   | ||   |  ||| |  | ||||  |  |   |     |      || |  |   ||  ||||  | | | |||    || || ||| | || | |  |  | ||  | | |  ||    |||  | |   || |||   | | | ||   ||||  | |  ||| ||  || |  ||| | |  |||| | ||| |    | | ||     |  ||| || |   | ||   | |      ||  ||| |    ||   |          ||  |       | |          |     | |||||| | |  |||     |    |  | | || |  ||  |      ||  |   | | | || | ||  | ||    |  |  |||   ||    || |  ||  ||| |||| |    | |  | ||||   ||  || | | ||  || | |   |   ||  | | | | | ||   | |   ||||   |  | | | |||   ||    || | || |  |  |   || |||||  |    | ||   ||||      ||  || |   ||  |         |   || | | || |||  ||  ||    |   |    ||||||  |    | |   |  |  |     | | || | || ||            || |||| |  |   ||| |  || || ||| |\n",
      "1 G-T-G-TCAGTGGAAC---TTT-GG-C------------AG---C--A--G--T---------------G---CG--T---GGA-----G---C-T---T----T--T-------G-C-GCGA-TGAGC-----TGC------C-TG-CC-CAGCAA-TT-CAAC-A-CCTG--G-ATCC---GTC--C---AC---T--A-CAG-----G--TCG-----A-AGCC-----G--A--A-G-G--CGA---C-GAG---TTG--------CG-TG---T---TT---AC-GC----GC---CC---AA-TCGT----TTTG-T--------TCTCGACT--GGGTCA-ACGA-GAAG---TACC-------TGA-G-CC-GC-G-T---GCT-C--GAAT-TGC----TCGATGAA---CACG-GCAACG------------------GCCTCGCA--CC-C-GTG-CTC-TC--CTTATTA--AT-AGGCA-GC--A-AAC---GT----A-G--C-----T--C-CGCACC-TC--------G---T-G--C-TGCG-CC-------GA------A-CGCGC-CATT---GGC-----------C---GCT-GCT-GC-GTC----G------C--AA---G-CCC--AG-G---C-GG--CA--C-CGGT--TGCCAGTA--CACC-T-GCA-C---------C--GGCT-C-CTT-CCA---A-A---TCG----TC-T--GCGAA-GA----A---A--A--AT-G--CAGC-C-G--A----GAATGAAGA-----AC-----CG--T--C----GC-G-CG--ATAG-CT--TCG---A--CC--CGATG-G-----CC-G--GTGCCA-GCTCC-CAGCAAGCCC--CG-AT-C-CGT---GCCGA-A--CA--GCGC-A---CC-GTTCAGG--TTG------AAG---G-T-G-C-G-CTCA---AGC---AC-ACC---A-----GCT---A---CC--TGA-A--C-C-GCA-----C--GT---TCACG--T-------TCGAG-A-ATTTCGTC-GA-AG-GT-A--A-AT--CCAAC-CAG-C-T----G--G--CT-----CG-TG-----CAGCCGCCTGGCA-G-G---T--C-G--CC---G-A---CA-ACC-C--C----A-A--G---CACGGTTAC----AA-C-C-CT--C--T------CTT--CCT--TTA----TGG--T---GGCGTC--G-G-CTT---GG-G-T-AAG-ACTCAC---T-T-GA-TGCAC-G-CT-----G-T-G--G-----G--T---A-AC---C--ACCTATTA-AAGA--A--G---A-----A------CC-C--G---AA-TGCCA--A-GGTCGTG----TA-CCTGCA-C-TC-G-G--A-GCGCTTCGTG-G--CT----GAC--ATGGTCAA-GGC-CCTGCAGCTC-AATGCCATC-AATGAA-TT-CAA-G-CGTTTC-T-ACCGCTC-GGT-T----G-A-TG-----C-GTTGCTG-A---T-CG---A-T------GA--CATTC----AA-TTC-------TTTGC--C-------C-G---------TA-----A-AGAGCG-T-T--CCC-----A----G--G-A-AG-A--GT--T------TT--T---CCA-TACC-T-TCAACGCC----C--T--GCT--CGA----AG-G--TG-GCCAGCAGGTC----ATCTTGACCAG---TG-ACCGT-T-AT--CC-G-A---A--AGA--G-A-T-C-G-AA---G-G---TCTG--GA-AG-A-A-CGC--CTG-AAATCGC-GT-T--T--C---GG-CTGGG--G----C-CT---GACT------GT--TG-C---AG--T---------A---GA-G-C-CG-CCG-GAG--CT----C---G----AAACCC--G----C-G---T--C--G-----CGA-TC-C-TGATG------------AA-AAAGGC-CG--ACCA-G--GCGAAAGTCGA\n",
      "  Score=873\n",
      "\n"
     ]
    }
   ],
   "source": [
    "temp_seqY = \"\"\n",
    "\n",
    "new_align = \"\"\n",
    "\n",
    "for i in SeqIO.parse('y.fasta', 'fasta'):\n",
    "    i.seq = Seq(clean(str(i.seq)))\n",
    "    temp_seqY = i.seq\n",
    "\n",
    "new_align = pairwise2.align.localxx(seqX.seq, temp_seqY)\n",
    "\n",
    "print(format_alignment(*new_align[0]))"
   ]
  },
  {
   "cell_type": "markdown",
   "metadata": {},
   "source": [
    "### Global alignment Y and Z"
   ]
  },
  {
   "cell_type": "code",
   "execution_count": 647,
   "metadata": {},
   "outputs": [
    {
     "name": "stdout",
     "output_type": "stream",
     "text": [
      "GTGTCAGTGGAACTTTGGCAGCAGTGCGTGGAGCTTTTGCGCGATGAGCTGCCTGCCCAGCAATTCAACACCTGGATCCGTCCACTACAGGTCGAAGCCGAAGGCGACGAGTTGCGTGTTTACGCGCCCAATCGTTTTGTTCTCGACTGGGTCAACGAGAAGTACCTGAGCCGCGTGCTCGAATTGCTCGATGAACACGGCAACGGCCTCGCACCCGTGCTCTCCTTATTAATAGGCAGCAAACGTAGCTCCGCACCTCGTGCTGCGCCGAACGCGCCATTGGCCGCTGCTGCGTCGCAAGCCCAGGCGGCACCGGTTGCCAGTACACCTGCACCGGCTCCTTCCAAATCGTCTGCGAAGAAAAATGCAGCCGAGAATGAAGAACCGTCGCGCGATAGCTTCGACCCGATGGCCGGTGCCAGCTCCCAGCAAGCCCCGATCCGTGCCGAACAGCGCACCGTTCAGGTTGAAGGTGCGCTCAAGCACACCAGCTACCTGAACCGCACGTTCACGTTCGAGAATTTCGTCGAAGGTAAATCCAACCAGCTGGCTCGTGCAGCCGCCTGGCAGGTCGCCGACAACCCCAAGCACGGTTACAACCCTCTCTTCCTTTATGGTGGCGTCGGCTTGGGTAAGACTCACTTGATGCACGCTGTGGGTAACCACCTATTAAAGAAGAACCCGAATGCCAAGGTCGTGTACCTGCACTCGGAGCGCTTCGTGGCTGACATGGTCAAGGCCCTGCAGCTCAATGCCATCAATGAATTCAAGCGTTTCTACCGCTCGGTTGATGCGTTGCTGATCGATGACATTCAATTCTTTGCCCGTAAAGAGCGTTCCCAGGAAGAGTTTTTCCATACCTTCAACGCCCTGCTCGAAGGTGGCCAGCAGGTCATCTTGACCAGTGACCGTTATCCGAAAGAGATCGAAGGTCTGGAAGAACGCCTGAAATCGCGTTTCGGCTGGGGCCTGACTGTTGCAGTAGAGCCGCCGGAGCTCGAAACCCGCGTCGCGATCCTGATGAAAAAGGCCGACCAGGCGAAAGTCGAC\n",
      "                                                                                                                                                                                                                                                                                                                                                                                                                                                                                                                                                                                                                                                                                                                                                                                                                                                                                                                                      |    |  |  |  |    | | |      | |          |   ||               ||  ||||   |   ||          || || |  |        | | |  || |                  |   ||  | \n",
      "--------------------------------------------------------------------------------------------------------------------------------------------------------------------------------------------------------------------------------------------------------------------------------------------------------------------------------------------------------------------------------------------------------------------------------------------------------------------------------------------------------------------------------------------------------------------------------------------------------------------------------------------------------------------------------------------------------------------------------------------------------------------------------------------------------------------------------------------------------------------------------------------------------------------------------------C----A--G--A--C----G-G-T------T-T----------C---AA---------------GG--TGAC---T---GT----------GA-CT-G--A--------G-G-T--TG-T------------------G---GT--A-\n",
      "  Score=38\n",
      "\n"
     ]
    }
   ],
   "source": [
    "new_align = \"\"\n",
    "\n",
    "for i in SeqIO.parse('y.fasta', 'fasta'):\n",
    "    i.seq = Seq(clean(str(i.seq)))\n",
    "    new_align = pairwise2.align.globalxx(i.seq, seqZ)\n",
    "\n",
    "print(format_alignment(*new_align[0]))"
   ]
  },
  {
   "cell_type": "markdown",
   "metadata": {},
   "source": [
    "### Hamming and Levenshtein"
   ]
  },
  {
   "cell_type": "markdown",
   "metadata": {},
   "source": [
    "there is only 1 library for leven and no lib for hamming"
   ]
  },
  {
   "cell_type": "markdown",
   "metadata": {},
   "source": [
    "#### Hamming between X and Y"
   ]
  },
  {
   "cell_type": "markdown",
   "metadata": {},
   "source": [
    "Hamming is actually quite simple. Hamming distance by deffinition the number of symbols or positions of two strings at which their corresponding characters are different. In other terms the number of gaps from alignment. This means (CMIIW) we can use the alignment score to search for the Hamming distance by substracting the length of the longest sequence that we want to compare"
   ]
  },
  {
   "cell_type": "code",
   "execution_count": 648,
   "metadata": {},
   "outputs": [],
   "source": [
    "temp_seqY = \"\"\n",
    "\n",
    "for i in SeqIO.parse('y.fasta', 'fasta'):\n",
    "    i.seq = Seq(clean(str(i.seq)))\n",
    "    temp_seqY = i.seq"
   ]
  },
  {
   "cell_type": "code",
   "execution_count": 649,
   "metadata": {},
   "outputs": [
    {
     "name": "stdout",
     "output_type": "stream",
     "text": [
      "1883\n",
      "1050\n"
     ]
    }
   ],
   "source": [
    "print(len(seqX))\n",
    "print(len(temp_seqY))"
   ]
  },
  {
   "cell_type": "code",
   "execution_count": 650,
   "metadata": {},
   "outputs": [
    {
     "data": {
      "text/plain": [
       "1010.0"
      ]
     },
     "execution_count": 650,
     "metadata": {},
     "output_type": "execute_result"
    }
   ],
   "source": [
    "hamming = len(seqX) - scores\n",
    "hamming"
   ]
  },
  {
   "cell_type": "markdown",
   "metadata": {},
   "source": [
    "Quick note: Hamming distances ONLY works if the length of two strings are equal so use this method if and only if the len() are equal. Another method using functions is also do-able like in 4th session's slides but idc, I'm too lazy"
   ]
  },
  {
   "cell_type": "markdown",
   "metadata": {},
   "source": [
    "#### Levenshtein"
   ]
  },
  {
   "cell_type": "markdown",
   "metadata": {},
   "source": [
    "just use Levenshtein module, it's there, don't make live complicated la"
   ]
  },
  {
   "cell_type": "code",
   "execution_count": 651,
   "metadata": {},
   "outputs": [
    {
     "name": "stdout",
     "output_type": "stream",
     "text": [
      "Defaulting to user installation because normal site-packages is not writeable\n",
      "Requirement already satisfied: Levenshtein in c:\\users\\axioo pongo\\appdata\\roaming\\python\\python312\\site-packages (0.25.1)\n",
      "Requirement already satisfied: rapidfuzz<4.0.0,>=3.8.0 in c:\\users\\axioo pongo\\appdata\\roaming\\python\\python312\\site-packages (from Levenshtein) (3.9.3)\n",
      "Note: you may need to restart the kernel to use updated packages.\n"
     ]
    }
   ],
   "source": [
    "%pip install Levenshtein"
   ]
  },
  {
   "cell_type": "code",
   "execution_count": 652,
   "metadata": {},
   "outputs": [
    {
     "data": {
      "text/plain": [
       "1045"
      ]
     },
     "execution_count": 652,
     "metadata": {},
     "output_type": "execute_result"
    }
   ],
   "source": [
    "from Levenshtein import distance\n",
    "\n",
    "leven = distance(seqX.seq, temp_seqY)\n",
    "leven"
   ]
  }
 ],
 "metadata": {
  "kernelspec": {
   "display_name": "Python 3",
   "language": "python",
   "name": "python3"
  },
  "language_info": {
   "codemirror_mode": {
    "name": "ipython",
    "version": 3
   },
   "file_extension": ".py",
   "mimetype": "text/x-python",
   "name": "python",
   "nbconvert_exporter": "python",
   "pygments_lexer": "ipython3",
   "version": "3.12.1"
  }
 },
 "nbformat": 4,
 "nbformat_minor": 2
}
